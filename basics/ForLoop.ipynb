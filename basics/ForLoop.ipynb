{
 "cells": [
  {
   "cell_type": "code",
   "execution_count": 2,
   "metadata": {},
   "outputs": [
    {
     "name": "stdout",
     "output_type": "stream",
     "text": [
      "h\n",
      "e\n",
      "l\n",
      "l\n",
      "o\n"
     ]
    }
   ],
   "source": [
    "for letter in ['h','e','l','l','o']:\n",
    "    print(letter)"
   ]
  },
  {
   "cell_type": "code",
   "execution_count": 3,
   "metadata": {},
   "outputs": [
    {
     "name": "stdout",
     "output_type": "stream",
     "text": [
      "h\n",
      "e\n",
      "l\n",
      "l\n",
      "o\n"
     ]
    }
   ],
   "source": [
    "for letter in 'hello':\n",
    "    print(letter)"
   ]
  },
  {
   "cell_type": "code",
   "execution_count": 4,
   "metadata": {},
   "outputs": [
    {
     "ename": "ValueError",
     "evalue": "invalid literal for int() with base 10: 'Six'",
     "output_type": "error",
     "traceback": [
      "\u001b[1;31m---------------------------------------------------------------------------\u001b[0m",
      "\u001b[1;31mValueError\u001b[0m                                Traceback (most recent call last)",
      "\u001b[1;32m<ipython-input-4-518a11dc5353>\u001b[0m in \u001b[0;36m<module>\u001b[1;34m\u001b[0m\n\u001b[1;32m----> 1\u001b[1;33m \u001b[0mint\u001b[0m\u001b[1;33m(\u001b[0m\u001b[1;34m'Six'\u001b[0m\u001b[1;33m)\u001b[0m\u001b[1;33m\u001b[0m\u001b[0m\n\u001b[0m",
      "\u001b[1;31mValueError\u001b[0m: invalid literal for int() with base 10: 'Six'"
     ]
    }
   ],
   "source": [
    "int('Six')"
   ]
  },
  {
   "cell_type": "code",
   "execution_count": 8,
   "metadata": {},
   "outputs": [],
   "source": [
    "if None:\n",
    "    print(\"X\")"
   ]
  },
  {
   "cell_type": "code",
   "execution_count": 9,
   "metadata": {},
   "outputs": [
    {
     "name": "stdout",
     "output_type": "stream",
     "text": [
      "germany\n",
      "india\n",
      "israel\n"
     ]
    }
   ],
   "source": [
    "for country in 'germany','india','israel':\n",
    "    print(country)"
   ]
  },
  {
   "cell_type": "code",
   "execution_count": 11,
   "metadata": {},
   "outputs": [
    {
     "name": "stdout",
     "output_type": "stream",
     "text": [
      "The dog at index 0 is pug and its weight is 20 in pounds\n",
      "The dog at index 1 is poodle and its weight is 40 in pounds\n",
      "The dog at index 2 is doberman and its weight is 60 in pounds\n"
     ]
    }
   ],
   "source": [
    "dog_weight =(('pug',20),\n",
    "            ('poodle',40),\n",
    "            ('doberman',60))\n",
    "for i, (dog,weight) in enumerate(dog_weight):\n",
    "    print(\"The dog at index %d is %s and its weight is %s in pounds\" %(i,dog,weight))"
   ]
  },
  {
   "cell_type": "code",
   "execution_count": 12,
   "metadata": {},
   "outputs": [
    {
     "name": "stdout",
     "output_type": "stream",
     "text": [
      "s\n",
      "e\n",
      "l\n",
      "e\n",
      "n\n",
      "a\n",
      "We have run out of characters to print\n"
     ]
    }
   ],
   "source": [
    "for i in 'selena':\n",
    "    print(i)\n",
    "else:\n",
    "    print(\"We have run out of characters to print\")"
   ]
  },
  {
   "cell_type": "code",
   "execution_count": 13,
   "metadata": {},
   "outputs": [
    {
     "name": "stdout",
     "output_type": "stream",
     "text": [
      "joey\n",
      "chandler\n",
      "monica\n",
      "rachael\n",
      "ross\n",
      "pheobe\n"
     ]
    }
   ],
   "source": [
    "names =[['joey','chandler','monica'],\n",
    "        ['rachael','ross','pheobe']]\n",
    "for name in names:\n",
    "    for firstname in name:\n",
    "        print(firstname)"
   ]
  },
  {
   "cell_type": "code",
   "execution_count": 14,
   "metadata": {},
   "outputs": [
    {
     "name": "stdout",
     "output_type": "stream",
     "text": [
      "0\n",
      "1\n",
      "2\n",
      "3\n",
      "4\n",
      "5\n",
      "6\n",
      "7\n",
      "8\n",
      "9\n"
     ]
    }
   ],
   "source": [
    "for i in range(0,10):\n",
    "    print(i)"
   ]
  },
  {
   "cell_type": "code",
   "execution_count": 16,
   "metadata": {},
   "outputs": [
    {
     "name": "stdout",
     "output_type": "stream",
     "text": [
      "<class 'range'>\n"
     ]
    }
   ],
   "source": [
    "rnum = range(0,10)\n",
    "print(type(rnum))"
   ]
  },
  {
   "cell_type": "code",
   "execution_count": 19,
   "metadata": {},
   "outputs": [
    {
     "data": {
      "text/plain": [
       "10"
      ]
     },
     "execution_count": 19,
     "metadata": {},
     "output_type": "execute_result"
    }
   ],
   "source": [
    "len(list(range(-5,5)))"
   ]
  },
  {
   "cell_type": "code",
   "execution_count": 20,
   "metadata": {},
   "outputs": [
    {
     "data": {
      "text/plain": [
       "[0, 1, 2, 3, 4]"
      ]
     },
     "execution_count": 20,
     "metadata": {},
     "output_type": "execute_result"
    }
   ],
   "source": [
    "list(range(5))"
   ]
  },
  {
   "cell_type": "code",
   "execution_count": 21,
   "metadata": {},
   "outputs": [
    {
     "name": "stdout",
     "output_type": "stream",
     "text": [
      "BC\n",
      "BC\n",
      "BC\n",
      "BC\n",
      "BC\n",
      "BC\n",
      "BC\n",
      "BC\n"
     ]
    }
   ],
   "source": [
    "for i in range (2 ** 3):\n",
    "    print(\"BC\")"
   ]
  },
  {
   "cell_type": "code",
   "execution_count": 22,
   "metadata": {},
   "outputs": [
    {
     "name": "stdout",
     "output_type": "stream",
     "text": [
      "n\n",
      "i\n",
      "k\n",
      "i\n",
      "t\n",
      "a\n"
     ]
    }
   ],
   "source": [
    "for i in reversed(\"atikin\"):\n",
    "    print(i)"
   ]
  },
  {
   "cell_type": "code",
   "execution_count": 23,
   "metadata": {},
   "outputs": [
    {
     "data": {
      "text/plain": [
       "[5, 6, 7, 8, 9]"
      ]
     },
     "execution_count": 23,
     "metadata": {},
     "output_type": "execute_result"
    }
   ],
   "source": [
    "list(range(5,10,1))"
   ]
  },
  {
   "cell_type": "code",
   "execution_count": 24,
   "metadata": {},
   "outputs": [
    {
     "data": {
      "text/plain": [
       "[5, 7, 9]"
      ]
     },
     "execution_count": 24,
     "metadata": {},
     "output_type": "execute_result"
    }
   ],
   "source": [
    "list(range(5,10,2))"
   ]
  },
  {
   "cell_type": "code",
   "execution_count": 25,
   "metadata": {},
   "outputs": [
    {
     "data": {
      "text/plain": [
       "[5, 3, 1, -1, -3, -5, -7, -9]"
      ]
     },
     "execution_count": 25,
     "metadata": {},
     "output_type": "execute_result"
    }
   ],
   "source": [
    "list(range(5,-10,-2))"
   ]
  },
  {
   "cell_type": "code",
   "execution_count": 26,
   "metadata": {},
   "outputs": [
    {
     "data": {
      "text/plain": [
       "[-5, -7, -9]"
      ]
     },
     "execution_count": 26,
     "metadata": {},
     "output_type": "execute_result"
    }
   ],
   "source": [
    "list(range(-5,-10,-2))"
   ]
  },
  {
   "cell_type": "code",
   "execution_count": 27,
   "metadata": {},
   "outputs": [
    {
     "ename": "SyntaxError",
     "evalue": "invalid syntax (<ipython-input-27-d5d570ebfb94>, line 1)",
     "output_type": "error",
     "traceback": [
      "\u001b[1;36m  File \u001b[1;32m\"<ipython-input-27-d5d570ebfb94>\"\u001b[1;36m, line \u001b[1;32m1\u001b[0m\n\u001b[1;33m    def join\u001b[0m\n\u001b[1;37m            ^\u001b[0m\n\u001b[1;31mSyntaxError\u001b[0m\u001b[1;31m:\u001b[0m invalid syntax\n"
     ]
    }
   ],
   "source": []
  },
  {
   "cell_type": "code",
   "execution_count": 28,
   "metadata": {},
   "outputs": [
    {
     "name": "stdout",
     "output_type": "stream",
     "text": [
      "cube of  1 is 1\n",
      "cube of  2 is 8\n",
      "cube of  3 is 27\n",
      "cube of  4 is 64\n",
      "cube of  5 is 125\n",
      "cube of  6 is 216\n",
      "cube of  7 is 343\n",
      "cube of  8 is 512\n",
      "cube of  9 is 729\n",
      "cube of  10 is 1000\n",
      "cube of  11 is 1331\n",
      "cube of  12 is 1728\n",
      "cube of  13 is 2197\n",
      "cube of  14 is 2744\n"
     ]
    }
   ],
   "source": [
    "num_list = list(range(1,15))\n",
    "for num in num_list:\n",
    "    print(\"cube of \", num, \"is\",num**3)"
   ]
  },
  {
   "cell_type": "code",
   "execution_count": 29,
   "metadata": {},
   "outputs": [
    {
     "name": "stdout",
     "output_type": "stream",
     "text": [
      "['joey', 'chandler', 'monica', 'rachael', 'ross', 'pheobe']\n"
     ]
    }
   ],
   "source": [
    "names =[['joey','chandler','monica'],\n",
    "        ['rachael','ross','pheobe']]\n",
    "firstnames = []\n",
    "\n",
    "for name in names:\n",
    "    for firstname in name:\n",
    "        firstnames.append(firstname)\n",
    "print(firstnames)"
   ]
  },
  {
   "cell_type": "code",
   "execution_count": 30,
   "metadata": {},
   "outputs": [
    {
     "name": "stdout",
     "output_type": "stream",
     "text": [
      "2000\n",
      "2004\n",
      "2008\n",
      "2012\n",
      "2016\n",
      "2020\n",
      "2024\n",
      "2028\n",
      "2032\n",
      "2036\n",
      "2040\n",
      "2044\n",
      "2048\n",
      "2052\n",
      "2056\n",
      "2060\n",
      "2064\n",
      "2068\n",
      "2072\n",
      "2076\n",
      "2080\n",
      "2084\n",
      "2088\n",
      "2092\n",
      "2096\n",
      "2100\n",
      "2104\n",
      "2108\n",
      "2112\n",
      "2116\n",
      "2120\n",
      "2124\n",
      "2128\n",
      "2132\n",
      "2136\n",
      "2140\n",
      "2144\n",
      "2148\n",
      "2152\n",
      "2156\n",
      "2160\n",
      "2164\n",
      "2168\n",
      "2172\n",
      "2176\n",
      "2180\n",
      "2184\n",
      "2188\n",
      "2192\n",
      "2196\n",
      "2200\n",
      "2204\n",
      "2208\n",
      "2212\n",
      "2216\n",
      "2220\n",
      "2224\n",
      "2228\n",
      "2232\n",
      "2236\n",
      "2240\n",
      "2244\n",
      "2248\n",
      "2252\n",
      "2256\n",
      "2260\n",
      "2264\n",
      "2268\n",
      "2272\n",
      "2276\n",
      "2280\n",
      "2284\n",
      "2288\n",
      "2292\n",
      "2296\n",
      "2300\n",
      "2304\n",
      "2308\n",
      "2312\n",
      "2316\n",
      "2320\n",
      "2324\n",
      "2328\n",
      "2332\n",
      "2336\n",
      "2340\n",
      "2344\n",
      "2348\n",
      "2352\n",
      "2356\n",
      "2360\n",
      "2364\n",
      "2368\n",
      "2372\n",
      "2376\n",
      "2380\n",
      "2384\n",
      "2388\n",
      "2392\n",
      "2396\n",
      "2400\n",
      "2404\n",
      "2408\n",
      "2412\n",
      "2416\n",
      "2420\n",
      "2424\n",
      "2428\n",
      "2432\n",
      "2436\n",
      "2440\n",
      "2444\n",
      "2448\n",
      "2452\n",
      "2456\n",
      "2460\n",
      "2464\n",
      "2468\n",
      "2472\n",
      "2476\n",
      "2480\n",
      "2484\n",
      "2488\n",
      "2492\n",
      "2496\n",
      "2500\n",
      "2504\n",
      "2508\n",
      "2512\n",
      "2516\n",
      "2520\n",
      "2524\n",
      "2528\n",
      "2532\n",
      "2536\n",
      "2540\n",
      "2544\n",
      "2548\n",
      "2552\n",
      "2556\n",
      "2560\n",
      "2564\n",
      "2568\n",
      "2572\n",
      "2576\n",
      "2580\n",
      "2584\n",
      "2588\n",
      "2592\n",
      "2596\n",
      "2600\n",
      "2604\n",
      "2608\n",
      "2612\n",
      "2616\n",
      "2620\n",
      "2624\n",
      "2628\n",
      "2632\n",
      "2636\n",
      "2640\n",
      "2644\n",
      "2648\n",
      "2652\n",
      "2656\n",
      "2660\n",
      "2664\n",
      "2668\n",
      "2672\n",
      "2676\n",
      "2680\n",
      "2684\n",
      "2688\n",
      "2692\n",
      "2696\n",
      "2700\n",
      "2704\n",
      "2708\n",
      "2712\n",
      "2716\n",
      "2720\n",
      "2724\n",
      "2728\n",
      "2732\n",
      "2736\n",
      "2740\n",
      "2744\n",
      "2748\n",
      "2752\n",
      "2756\n",
      "2760\n",
      "2764\n",
      "2768\n",
      "2772\n",
      "2776\n",
      "2780\n",
      "2784\n",
      "2788\n",
      "2792\n",
      "2796\n",
      "2800\n",
      "2804\n",
      "2808\n",
      "2812\n",
      "2816\n",
      "2820\n",
      "2824\n",
      "2828\n",
      "2832\n",
      "2836\n",
      "2840\n",
      "2844\n",
      "2848\n",
      "2852\n",
      "2856\n",
      "2860\n",
      "2864\n",
      "2868\n",
      "2872\n",
      "2876\n",
      "2880\n",
      "2884\n",
      "2888\n",
      "2892\n",
      "2896\n",
      "2900\n",
      "2904\n",
      "2908\n",
      "2912\n",
      "2916\n",
      "2920\n",
      "2924\n",
      "2928\n",
      "2932\n",
      "2936\n",
      "2940\n",
      "2944\n",
      "2948\n",
      "2952\n",
      "2956\n",
      "2960\n",
      "2964\n",
      "2968\n",
      "2972\n",
      "2976\n",
      "2980\n",
      "2984\n",
      "2988\n",
      "2992\n",
      "2996\n"
     ]
    }
   ],
   "source": [
    "for year in range(2000,3000):\n",
    "    if year%4 == 0 :\n",
    "        print(year)"
   ]
  },
  {
   "cell_type": "code",
   "execution_count": null,
   "metadata": {},
   "outputs": [],
   "source": []
  },
  {
   "cell_type": "code",
   "execution_count": null,
   "metadata": {},
   "outputs": [],
   "source": []
  },
  {
   "cell_type": "code",
   "execution_count": null,
   "metadata": {},
   "outputs": [],
   "source": []
  },
  {
   "cell_type": "code",
   "execution_count": null,
   "metadata": {},
   "outputs": [],
   "source": []
  },
  {
   "cell_type": "code",
   "execution_count": null,
   "metadata": {},
   "outputs": [],
   "source": []
  }
 ],
 "metadata": {
  "kernelspec": {
   "display_name": "Python 3",
   "language": "python",
   "name": "python3"
  },
  "language_info": {
   "codemirror_mode": {
    "name": "ipython",
    "version": 3
   },
   "file_extension": ".py",
   "mimetype": "text/x-python",
   "name": "python",
   "nbconvert_exporter": "python",
   "pygments_lexer": "ipython3",
   "version": "3.6.5"
  }
 },
 "nbformat": 4,
 "nbformat_minor": 4
}
