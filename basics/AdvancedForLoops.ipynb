{
 "cells": [
  {
   "cell_type": "code",
   "execution_count": 3,
   "metadata": {},
   "outputs": [
    {
     "name": "stdout",
     "output_type": "stream",
     "text": [
      "p\n",
      "y\n",
      "t\n",
      "h\n"
     ]
    }
   ],
   "source": [
    "#break\n",
    "for letter in 'python':\n",
    "    if letter == 'o':\n",
    "        break\n",
    "    print(letter)    "
   ]
  },
  {
   "cell_type": "code",
   "execution_count": 4,
   "metadata": {},
   "outputs": [
    {
     "name": "stdout",
     "output_type": "stream",
     "text": [
      "p\n",
      "y\n",
      "t\n",
      "h\n",
      "o\n"
     ]
    }
   ],
   "source": [
    "#break\n",
    "for letter in 'python':\n",
    "    print(letter)\n",
    "    if letter == 'o':\n",
    "        break\n",
    "        "
   ]
  },
  {
   "cell_type": "code",
   "execution_count": 6,
   "metadata": {},
   "outputs": [
    {
     "name": "stdout",
     "output_type": "stream",
     "text": [
      "p\n",
      "y\n",
      "t\n",
      "h\n",
      "n\n",
      "end\n"
     ]
    }
   ],
   "source": [
    "#continue example\n",
    "for letter in \"python\":\n",
    "    if letter == 'o':\n",
    "        continue\n",
    "    print(letter)\n",
    "print(\"end\")"
   ]
  },
  {
   "cell_type": "code",
   "execution_count": 7,
   "metadata": {},
   "outputs": [
    {
     "name": "stdout",
     "output_type": "stream",
     "text": [
      "mon is a working day\n",
      "tue is a working day\n",
      "wed is a working day\n",
      "thu is a working day\n",
      "fri is a working day\n"
     ]
    }
   ],
   "source": [
    "#continue\n",
    "num_day = [1,2,3,4,5,6,7]\n",
    "days = ['sun','mon','tue','wed','thu','fri','sat']\n",
    "\n",
    "new_dict = dict()\n",
    "\n",
    "for i,j in zip(num_day,days):\n",
    "    new_dict.update({i:j})\n",
    "    if new_dict[i] == 'sun' or new_dict[i] == 'sat':\n",
    "        continue\n",
    "    else:\n",
    "        print(f'{new_dict[i]} is a working day')"
   ]
  },
  {
   "cell_type": "code",
   "execution_count": 11,
   "metadata": {},
   "outputs": [
    {
     "name": "stdout",
     "output_type": "stream",
     "text": [
      "current letter :  s\n",
      "current letter :  t\n",
      "r\n",
      "current letter :  i\n",
      "current letter :  n\n",
      "current letter :  g\n",
      "we are out of the loop\n"
     ]
    }
   ],
   "source": [
    "#pass statement\n",
    "for letter in 'string':\n",
    "    if letter == 'r' :\n",
    "        pass\n",
    "        print(letter)\n",
    "    else:\n",
    "        print (\"current letter : \", letter)\n",
    "print(\"we are out of the loop\")"
   ]
  },
  {
   "cell_type": "code",
   "execution_count": 12,
   "metadata": {},
   "outputs": [
    {
     "name": "stdout",
     "output_type": "stream",
     "text": [
      "1\n",
      "3\n",
      "5\n",
      "7\n",
      "9\n"
     ]
    }
   ],
   "source": [
    "#pass \n",
    "for i in range(1,10):\n",
    "    if i % 2 == 0:\n",
    "        pass\n",
    "    else:\n",
    "        print(i)"
   ]
  },
  {
   "cell_type": "code",
   "execution_count": null,
   "metadata": {},
   "outputs": [],
   "source": []
  },
  {
   "cell_type": "code",
   "execution_count": null,
   "metadata": {},
   "outputs": [],
   "source": []
  },
  {
   "cell_type": "code",
   "execution_count": null,
   "metadata": {},
   "outputs": [],
   "source": []
  },
  {
   "cell_type": "code",
   "execution_count": null,
   "metadata": {},
   "outputs": [],
   "source": []
  },
  {
   "cell_type": "code",
   "execution_count": null,
   "metadata": {},
   "outputs": [],
   "source": []
  },
  {
   "cell_type": "code",
   "execution_count": null,
   "metadata": {},
   "outputs": [],
   "source": []
  },
  {
   "cell_type": "code",
   "execution_count": null,
   "metadata": {},
   "outputs": [],
   "source": []
  },
  {
   "cell_type": "code",
   "execution_count": null,
   "metadata": {},
   "outputs": [],
   "source": []
  },
  {
   "cell_type": "code",
   "execution_count": null,
   "metadata": {},
   "outputs": [],
   "source": []
  }
 ],
 "metadata": {
  "kernelspec": {
   "display_name": "Python 3",
   "language": "python",
   "name": "python3"
  },
  "language_info": {
   "codemirror_mode": {
    "name": "ipython",
    "version": 3
   },
   "file_extension": ".py",
   "mimetype": "text/x-python",
   "name": "python",
   "nbconvert_exporter": "python",
   "pygments_lexer": "ipython3",
   "version": "3.6.5"
  }
 },
 "nbformat": 4,
 "nbformat_minor": 4
}
