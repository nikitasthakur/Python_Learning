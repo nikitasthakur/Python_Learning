{
 "cells": [
  {
   "cell_type": "code",
   "execution_count": 1,
   "metadata": {
    "collapsed": true
   },
   "outputs": [],
   "source": [
    "import pandas as pd"
   ]
  },
  {
   "cell_type": "markdown",
   "metadata": {},
   "source": [
    "#### Create data to load into a DataFrame\n",
    "Data for some US-based tech companies "
   ]
  },
  {
   "cell_type": "code",
   "execution_count": 2,
   "metadata": {
    "collapsed": true
   },
   "outputs": [],
   "source": [
    "data = {'Company' : ['HP', 'IBM', 'Intel', 'Microsoft', \n",
    "                     'Amazon', 'Apple Inc.'],\n",
    "      \n",
    "        'Headquarters' : ['California', 'New York', 'California', \n",
    "                        'Washington', 'Washington', 'California'],\n",
    "      \n",
    "        'CEO'         : ['Dion Weisler', 'Ginni Rometty', 'Robert H. Swan', \n",
    "                       'Satya Nadella', 'Jeff Bezos','Tim Cook'],\n",
    "      \n",
    "       }"
   ]
  },
  {
   "cell_type": "markdown",
   "metadata": {},
   "source": [
    "#### Create a DataFrame from the data"
   ]
  },
  {
   "cell_type": "code",
   "execution_count": 3,
   "metadata": {},
   "outputs": [
    {
     "data": {
      "text/html": [
       "<div>\n",
       "<style scoped>\n",
       "    .dataframe tbody tr th:only-of-type {\n",
       "        vertical-align: middle;\n",
       "    }\n",
       "\n",
       "    .dataframe tbody tr th {\n",
       "        vertical-align: top;\n",
       "    }\n",
       "\n",
       "    .dataframe thead th {\n",
       "        text-align: right;\n",
       "    }\n",
       "</style>\n",
       "<table border=\"1\" class=\"dataframe\">\n",
       "  <thead>\n",
       "    <tr style=\"text-align: right;\">\n",
       "      <th></th>\n",
       "      <th>Company</th>\n",
       "      <th>Headquarters</th>\n",
       "      <th>CEO</th>\n",
       "    </tr>\n",
       "  </thead>\n",
       "  <tbody>\n",
       "    <tr>\n",
       "      <th>0</th>\n",
       "      <td>HP</td>\n",
       "      <td>California</td>\n",
       "      <td>Dion Weisler</td>\n",
       "    </tr>\n",
       "    <tr>\n",
       "      <th>1</th>\n",
       "      <td>IBM</td>\n",
       "      <td>New York</td>\n",
       "      <td>Ginni Rometty</td>\n",
       "    </tr>\n",
       "    <tr>\n",
       "      <th>2</th>\n",
       "      <td>Intel</td>\n",
       "      <td>California</td>\n",
       "      <td>Robert H. Swan</td>\n",
       "    </tr>\n",
       "    <tr>\n",
       "      <th>3</th>\n",
       "      <td>Microsoft</td>\n",
       "      <td>Washington</td>\n",
       "      <td>Satya Nadella</td>\n",
       "    </tr>\n",
       "    <tr>\n",
       "      <th>4</th>\n",
       "      <td>Amazon</td>\n",
       "      <td>Washington</td>\n",
       "      <td>Jeff Bezos</td>\n",
       "    </tr>\n",
       "    <tr>\n",
       "      <th>5</th>\n",
       "      <td>Apple Inc.</td>\n",
       "      <td>California</td>\n",
       "      <td>Tim Cook</td>\n",
       "    </tr>\n",
       "  </tbody>\n",
       "</table>\n",
       "</div>"
      ],
      "text/plain": [
       "      Company Headquarters             CEO\n",
       "0          HP   California    Dion Weisler\n",
       "1         IBM     New York   Ginni Rometty\n",
       "2       Intel   California  Robert H. Swan\n",
       "3   Microsoft   Washington   Satya Nadella\n",
       "4      Amazon   Washington      Jeff Bezos\n",
       "5  Apple Inc.   California        Tim Cook"
      ]
     },
     "execution_count": 3,
     "metadata": {},
     "output_type": "execute_result"
    }
   ],
   "source": [
    "tech_company_df = pd.DataFrame(data)\n",
    "\n",
    "tech_company_df"
   ]
  },
  {
   "cell_type": "markdown",
   "metadata": {},
   "source": [
    "#### The itertuples() function\n",
    "This returns a list of named tuples, each representing a row in the Dataframe. The cells of the rows can be accessed by the field names which correspond to the column names"
   ]
  },
  {
   "cell_type": "code",
   "execution_count": 4,
   "metadata": {
    "scrolled": true
   },
   "outputs": [
    {
     "name": "stdout",
     "output_type": "stream",
     "text": [
      "Pandas(Index=0, Company='HP', Headquarters='California', CEO='Dion Weisler')\n",
      "Pandas(Index=1, Company='IBM', Headquarters='New York', CEO='Ginni Rometty')\n",
      "Pandas(Index=2, Company='Intel', Headquarters='California', CEO='Robert H. Swan')\n",
      "Pandas(Index=3, Company='Microsoft', Headquarters='Washington', CEO='Satya Nadella')\n",
      "Pandas(Index=4, Company='Amazon', Headquarters='Washington', CEO='Jeff Bezos')\n",
      "Pandas(Index=5, Company='Apple Inc.', Headquarters='California', CEO='Tim Cook')\n"
     ]
    }
   ],
   "source": [
    "for row in tech_company_df.itertuples():\n",
    "    print(row)"
   ]
  },
  {
   "cell_type": "markdown",
   "metadata": {},
   "source": [
    "#### Accessing the fields from the named tuples\n",
    "Like with any object, use the dot notation to access individual values"
   ]
  },
  {
   "cell_type": "code",
   "execution_count": 5,
   "metadata": {},
   "outputs": [
    {
     "name": "stdout",
     "output_type": "stream",
     "text": [
      "Company:  HP\n",
      "Headquarters:  California \n",
      "\n",
      "Company:  IBM\n",
      "Headquarters:  New York \n",
      "\n",
      "Company:  Intel\n",
      "Headquarters:  California \n",
      "\n",
      "Company:  Microsoft\n",
      "Headquarters:  Washington \n",
      "\n",
      "Company:  Amazon\n",
      "Headquarters:  Washington \n",
      "\n",
      "Company:  Apple Inc.\n",
      "Headquarters:  California \n",
      "\n"
     ]
    }
   ],
   "source": [
    "for row in tech_company_df.itertuples():\n",
    "    print('Company: ', row.Company)\n",
    "    print('Headquarters: ', row.Headquarters, '\\n')"
   ]
  },
  {
   "cell_type": "markdown",
   "metadata": {},
   "source": [
    "#### The iterrows() function\n",
    "This returns the row index along with the row contents in a Pandas Series object"
   ]
  },
  {
   "cell_type": "code",
   "execution_count": 6,
   "metadata": {},
   "outputs": [
    {
     "name": "stdout",
     "output_type": "stream",
     "text": [
      "Row Index:  0\n",
      "Row contents:\n",
      " Company                   HP\n",
      "Headquarters      California\n",
      "CEO             Dion Weisler\n",
      "Name: 0, dtype: object \n",
      "\n",
      "Row Index:  1\n",
      "Row contents:\n",
      " Company                   IBM\n",
      "Headquarters         New York\n",
      "CEO             Ginni Rometty\n",
      "Name: 1, dtype: object \n",
      "\n",
      "Row Index:  2\n",
      "Row contents:\n",
      " Company                  Intel\n",
      "Headquarters        California\n",
      "CEO             Robert H. Swan\n",
      "Name: 2, dtype: object \n",
      "\n",
      "Row Index:  3\n",
      "Row contents:\n",
      " Company             Microsoft\n",
      "Headquarters       Washington\n",
      "CEO             Satya Nadella\n",
      "Name: 3, dtype: object \n",
      "\n",
      "Row Index:  4\n",
      "Row contents:\n",
      " Company             Amazon\n",
      "Headquarters    Washington\n",
      "CEO             Jeff Bezos\n",
      "Name: 4, dtype: object \n",
      "\n",
      "Row Index:  5\n",
      "Row contents:\n",
      " Company         Apple Inc.\n",
      "Headquarters    California\n",
      "CEO               Tim Cook\n",
      "Name: 5, dtype: object \n",
      "\n"
     ]
    }
   ],
   "source": [
    "for row_index, row in tech_company_df.iterrows():\n",
    "    print('Row Index: ', row_index)\n",
    "    print('Row contents:\\n', row, '\\n')"
   ]
  },
  {
   "cell_type": "markdown",
   "metadata": {},
   "source": [
    "#### Row contents can be accessed from the returned Pandas Series\n",
    "We get the company name and its CEO from the Series"
   ]
  },
  {
   "cell_type": "code",
   "execution_count": 7,
   "metadata": {},
   "outputs": [
    {
     "name": "stdout",
     "output_type": "stream",
     "text": [
      "Row Index:  0\n",
      "Company Name: HP\n",
      "Company CEO: Dion Weisler \n",
      "\n",
      "Row Index:  1\n",
      "Company Name: IBM\n",
      "Company CEO: Ginni Rometty \n",
      "\n",
      "Row Index:  2\n",
      "Company Name: Intel\n",
      "Company CEO: Robert H. Swan \n",
      "\n",
      "Row Index:  3\n",
      "Company Name: Microsoft\n",
      "Company CEO: Satya Nadella \n",
      "\n",
      "Row Index:  4\n",
      "Company Name: Amazon\n",
      "Company CEO: Jeff Bezos \n",
      "\n",
      "Row Index:  5\n",
      "Company Name: Apple Inc.\n",
      "Company CEO: Tim Cook \n",
      "\n"
     ]
    }
   ],
   "source": [
    "for row_index, row in tech_company_df.iterrows():\n",
    "    print('Row Index: ', row_index)\n",
    "    print('Company Name:', row[0])\n",
    "    print('Company CEO:', row[2], '\\n')"
   ]
  },
  {
   "cell_type": "markdown",
   "metadata": {},
   "source": [
    "#### The iteritems() function returns the column name and column contents\n",
    "The column name is the key, the value is a Series object containing the data of the column"
   ]
  },
  {
   "cell_type": "code",
   "execution_count": 8,
   "metadata": {},
   "outputs": [
    {
     "name": "stdout",
     "output_type": "stream",
     "text": [
      "Key is : Company\n",
      "Value is:\n",
      " 0            HP\n",
      "1           IBM\n",
      "2         Intel\n",
      "3     Microsoft\n",
      "4        Amazon\n",
      "5    Apple Inc.\n",
      "Name: Company, dtype: object \n",
      "\n",
      "Key is : Headquarters\n",
      "Value is:\n",
      " 0    California\n",
      "1      New York\n",
      "2    California\n",
      "3    Washington\n",
      "4    Washington\n",
      "5    California\n",
      "Name: Headquarters, dtype: object \n",
      "\n",
      "Key is : CEO\n",
      "Value is:\n",
      " 0      Dion Weisler\n",
      "1     Ginni Rometty\n",
      "2    Robert H. Swan\n",
      "3     Satya Nadella\n",
      "4        Jeff Bezos\n",
      "5          Tim Cook\n",
      "Name: CEO, dtype: object \n",
      "\n"
     ]
    }
   ],
   "source": [
    "for key, value in tech_company_df.iteritems():\n",
    "    print('Key is :', key)\n",
    "    print('Value is:\\n', value, '\\n')"
   ]
  },
  {
   "cell_type": "code",
   "execution_count": null,
   "metadata": {
    "collapsed": true
   },
   "outputs": [],
   "source": []
  }
 ],
 "metadata": {
  "kernelspec": {
   "display_name": "Python 3",
   "language": "python",
   "name": "python3"
  },
  "language_info": {
   "codemirror_mode": {
    "name": "ipython",
    "version": 3
   },
   "file_extension": ".py",
   "mimetype": "text/x-python",
   "name": "python",
   "nbconvert_exporter": "python",
   "pygments_lexer": "ipython3",
   "version": "3.6.5"
  }
 },
 "nbformat": 4,
 "nbformat_minor": 2
}
