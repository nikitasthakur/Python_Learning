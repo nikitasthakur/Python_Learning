{
 "cells": [
  {
   "cell_type": "code",
   "execution_count": 13,
   "metadata": {},
   "outputs": [],
   "source": [
    "import pandas as pd\n",
    "import sys\n",
    "import numpy as np"
   ]
  },
  {
   "cell_type": "code",
   "execution_count": 3,
   "metadata": {},
   "outputs": [
    {
     "data": {
      "text/plain": [
       "{'__name__': 'pandas',\n",
       " '__doc__': '\\npandas - a powerful data analysis and manipulation library for Python\\n=====================================================================\\n\\n**pandas** is a Python package providing fast, flexible, and expressive data\\nstructures designed to make working with \"relational\" or \"labeled\" data both\\neasy and intuitive. It aims to be the fundamental high-level building block for\\ndoing practical, **real world** data analysis in Python. Additionally, it has\\nthe broader goal of becoming **the most powerful and flexible open source data\\nanalysis / manipulation tool available in any language**. It is already well on\\nits way toward this goal.\\n\\nMain Features\\n-------------\\nHere are just a few of the things that pandas does well:\\n\\n  - Easy handling of missing data in floating point as well as non-floating\\n    point data.\\n  - Size mutability: columns can be inserted and deleted from DataFrame and\\n    higher dimensional objects\\n  - Automatic and explicit data alignment: objects can be explicitly aligned\\n    to a set of labels, or the user can simply ignore the labels and let\\n    `Series`, `DataFrame`, etc. automatically align the data for you in\\n    computations.\\n  - Powerful, flexible group by functionality to perform split-apply-combine\\n    operations on data sets, for both aggregating and transforming data.\\n  - Make it easy to convert ragged, differently-indexed data in other Python\\n    and NumPy data structures into DataFrame objects.\\n  - Intelligent label-based slicing, fancy indexing, and subsetting of large\\n    data sets.\\n  - Intuitive merging and joining data sets.\\n  - Flexible reshaping and pivoting of data sets.\\n  - Hierarchical labeling of axes (possible to have multiple labels per tick).\\n  - Robust IO tools for loading data from flat files (CSV and delimited),\\n    Excel files, databases, and saving/loading data from the ultrafast HDF5\\n    format.\\n  - Time series-specific functionality: date range generation and frequency\\n    conversion, moving window statistics, date shifting and lagging.\\n',\n",
       " '__package__': 'pandas',\n",
       " '__loader__': <_frozen_importlib_external.SourceFileLoader at 0x16bbbc47550>,\n",
       " '__spec__': ModuleSpec(name='pandas', loader=<_frozen_importlib_external.SourceFileLoader object at 0x0000016BBBC47550>, origin='c:\\\\users\\\\nikita.thakur\\\\appdata\\\\local\\\\programs\\\\python\\\\python36\\\\lib\\\\site-packages\\\\pandas\\\\__init__.py', submodule_search_locations=['c:\\\\users\\\\nikita.thakur\\\\appdata\\\\local\\\\programs\\\\python\\\\python36\\\\lib\\\\site-packages\\\\pandas']),\n",
       " '__path__': ['c:\\\\users\\\\nikita.thakur\\\\appdata\\\\local\\\\programs\\\\python\\\\python36\\\\lib\\\\site-packages\\\\pandas'],\n",
       " '__file__': 'c:\\\\users\\\\nikita.thakur\\\\appdata\\\\local\\\\programs\\\\python\\\\python36\\\\lib\\\\site-packages\\\\pandas\\\\__init__.py',\n",
       " '__cached__': 'c:\\\\users\\\\nikita.thakur\\\\appdata\\\\local\\\\programs\\\\python\\\\python36\\\\lib\\\\site-packages\\\\pandas\\\\__pycache__\\\\__init__.cpython-36.pyc',\n",
       " '__builtins__': {'__name__': 'builtins',\n",
       "  '__doc__': \"Built-in functions, exceptions, and other objects.\\n\\nNoteworthy: None is the `nil' object; Ellipsis represents `...' in slices.\",\n",
       "  '__package__': '',\n",
       "  '__loader__': _frozen_importlib.BuiltinImporter,\n",
       "  '__spec__': ModuleSpec(name='builtins', loader=<class '_frozen_importlib.BuiltinImporter'>),\n",
       "  '__build_class__': <function __build_class__>,\n",
       "  '__import__': <function __import__>,\n",
       "  'abs': <function abs(x, /)>,\n",
       "  'all': <function all(iterable, /)>,\n",
       "  'any': <function any(iterable, /)>,\n",
       "  'ascii': <function ascii(obj, /)>,\n",
       "  'bin': <function bin(number, /)>,\n",
       "  'callable': <function callable(obj, /)>,\n",
       "  'chr': <function chr(i, /)>,\n",
       "  'compile': <function compile(source, filename, mode, flags=0, dont_inherit=False, optimize=-1)>,\n",
       "  'delattr': <function delattr(obj, name, /)>,\n",
       "  'dir': <function dir>,\n",
       "  'divmod': <function divmod(x, y, /)>,\n",
       "  'eval': <function eval(source, globals=None, locals=None, /)>,\n",
       "  'exec': <function exec(source, globals=None, locals=None, /)>,\n",
       "  'format': <function format(value, format_spec='', /)>,\n",
       "  'getattr': <function getattr>,\n",
       "  'globals': <function globals()>,\n",
       "  'hasattr': <function hasattr(obj, name, /)>,\n",
       "  'hash': <function hash(obj, /)>,\n",
       "  'hex': <function hex(number, /)>,\n",
       "  'id': <function id(obj, /)>,\n",
       "  'input': <bound method Kernel.raw_input of <ipykernel.ipkernel.IPythonKernel object at 0x0000016BBBC9A780>>,\n",
       "  'isinstance': <function isinstance(obj, class_or_tuple, /)>,\n",
       "  'issubclass': <function issubclass(cls, class_or_tuple, /)>,\n",
       "  'iter': <function iter>,\n",
       "  'len': <function len(obj, /)>,\n",
       "  'locals': <function locals()>,\n",
       "  'max': <function max>,\n",
       "  'min': <function min>,\n",
       "  'next': <function next>,\n",
       "  'oct': <function oct(number, /)>,\n",
       "  'ord': <function ord(c, /)>,\n",
       "  'pow': <function pow(x, y, z=None, /)>,\n",
       "  'print': <function print>,\n",
       "  'repr': <function repr(obj, /)>,\n",
       "  'round': <function round>,\n",
       "  'setattr': <function setattr(obj, name, value, /)>,\n",
       "  'sorted': <function sorted(iterable, /, *, key=None, reverse=False)>,\n",
       "  'sum': <function sum(iterable, start=0, /)>,\n",
       "  'vars': <function vars>,\n",
       "  'None': None,\n",
       "  'Ellipsis': Ellipsis,\n",
       "  'NotImplemented': NotImplemented,\n",
       "  'False': False,\n",
       "  'True': True,\n",
       "  'bool': bool,\n",
       "  'memoryview': memoryview,\n",
       "  'bytearray': bytearray,\n",
       "  'bytes': bytes,\n",
       "  'classmethod': classmethod,\n",
       "  'complex': complex,\n",
       "  'dict': dict,\n",
       "  'enumerate': enumerate,\n",
       "  'filter': filter,\n",
       "  'float': float,\n",
       "  'frozenset': frozenset,\n",
       "  'property': property,\n",
       "  'int': int,\n",
       "  'list': list,\n",
       "  'map': map,\n",
       "  'object': object,\n",
       "  'range': range,\n",
       "  'reversed': reversed,\n",
       "  'set': set,\n",
       "  'slice': slice,\n",
       "  'staticmethod': staticmethod,\n",
       "  'str': str,\n",
       "  'super': super,\n",
       "  'tuple': tuple,\n",
       "  'type': type,\n",
       "  'zip': zip,\n",
       "  '__debug__': True,\n",
       "  'BaseException': BaseException,\n",
       "  'Exception': Exception,\n",
       "  'TypeError': TypeError,\n",
       "  'StopAsyncIteration': StopAsyncIteration,\n",
       "  'StopIteration': StopIteration,\n",
       "  'GeneratorExit': GeneratorExit,\n",
       "  'SystemExit': SystemExit,\n",
       "  'KeyboardInterrupt': KeyboardInterrupt,\n",
       "  'ImportError': ImportError,\n",
       "  'ModuleNotFoundError': ModuleNotFoundError,\n",
       "  'OSError': OSError,\n",
       "  'EnvironmentError': OSError,\n",
       "  'IOError': OSError,\n",
       "  'WindowsError': OSError,\n",
       "  'EOFError': EOFError,\n",
       "  'RuntimeError': RuntimeError,\n",
       "  'RecursionError': RecursionError,\n",
       "  'NotImplementedError': NotImplementedError,\n",
       "  'NameError': NameError,\n",
       "  'UnboundLocalError': UnboundLocalError,\n",
       "  'AttributeError': AttributeError,\n",
       "  'SyntaxError': SyntaxError,\n",
       "  'IndentationError': IndentationError,\n",
       "  'TabError': TabError,\n",
       "  'LookupError': LookupError,\n",
       "  'IndexError': IndexError,\n",
       "  'KeyError': KeyError,\n",
       "  'ValueError': ValueError,\n",
       "  'UnicodeError': UnicodeError,\n",
       "  'UnicodeEncodeError': UnicodeEncodeError,\n",
       "  'UnicodeDecodeError': UnicodeDecodeError,\n",
       "  'UnicodeTranslateError': UnicodeTranslateError,\n",
       "  'AssertionError': AssertionError,\n",
       "  'ArithmeticError': ArithmeticError,\n",
       "  'FloatingPointError': FloatingPointError,\n",
       "  'OverflowError': OverflowError,\n",
       "  'ZeroDivisionError': ZeroDivisionError,\n",
       "  'SystemError': SystemError,\n",
       "  'ReferenceError': ReferenceError,\n",
       "  'BufferError': BufferError,\n",
       "  'MemoryError': MemoryError,\n",
       "  'Warning': Warning,\n",
       "  'UserWarning': UserWarning,\n",
       "  'DeprecationWarning': DeprecationWarning,\n",
       "  'PendingDeprecationWarning': PendingDeprecationWarning,\n",
       "  'SyntaxWarning': SyntaxWarning,\n",
       "  'RuntimeWarning': RuntimeWarning,\n",
       "  'FutureWarning': FutureWarning,\n",
       "  'ImportWarning': ImportWarning,\n",
       "  'UnicodeWarning': UnicodeWarning,\n",
       "  'BytesWarning': BytesWarning,\n",
       "  'ResourceWarning': ResourceWarning,\n",
       "  'ConnectionError': ConnectionError,\n",
       "  'BlockingIOError': BlockingIOError,\n",
       "  'BrokenPipeError': BrokenPipeError,\n",
       "  'ChildProcessError': ChildProcessError,\n",
       "  'ConnectionAbortedError': ConnectionAbortedError,\n",
       "  'ConnectionRefusedError': ConnectionRefusedError,\n",
       "  'ConnectionResetError': ConnectionResetError,\n",
       "  'FileExistsError': FileExistsError,\n",
       "  'FileNotFoundError': FileNotFoundError,\n",
       "  'IsADirectoryError': IsADirectoryError,\n",
       "  'NotADirectoryError': NotADirectoryError,\n",
       "  'InterruptedError': InterruptedError,\n",
       "  'PermissionError': PermissionError,\n",
       "  'ProcessLookupError': ProcessLookupError,\n",
       "  'TimeoutError': TimeoutError,\n",
       "  'open': <function io.open(file, mode='r', buffering=-1, encoding=None, errors=None, newline=None, closefd=True, opener=None)>,\n",
       "  'copyright': Copyright (c) 2001-2018 Python Software Foundation.\n",
       "  All Rights Reserved.\n",
       "  \n",
       "  Copyright (c) 2000 BeOpen.com.\n",
       "  All Rights Reserved.\n",
       "  \n",
       "  Copyright (c) 1995-2001 Corporation for National Research Initiatives.\n",
       "  All Rights Reserved.\n",
       "  \n",
       "  Copyright (c) 1991-1995 Stichting Mathematisch Centrum, Amsterdam.\n",
       "  All Rights Reserved.,\n",
       "  'credits':     Thanks to CWI, CNRI, BeOpen.com, Zope Corporation and a cast of thousands\n",
       "      for supporting Python development.  See www.python.org for more information.,\n",
       "  'license': Type license() to see the full license text,\n",
       "  'help': Type help() for interactive help, or help(object) for help about object.,\n",
       "  '__IPYTHON__': True,\n",
       "  'display': <function IPython.core.display.display(*objs, include=None, exclude=None, metadata=None, transient=None, display_id=None, **kwargs)>,\n",
       "  'get_ipython': <bound method InteractiveShell.get_ipython of <ipykernel.zmqshell.ZMQInteractiveShell object at 0x0000016BBBC9A240>>},\n",
       " '__docformat__': 'restructuredtext',\n",
       " 'compat': <module 'pandas.compat' from 'c:\\\\users\\\\nikita.thakur\\\\appdata\\\\local\\\\programs\\\\python\\\\python36\\\\lib\\\\site-packages\\\\pandas\\\\compat\\\\__init__.py'>,\n",
       " '_np_version_under1p14': False,\n",
       " '_np_version_under1p15': False,\n",
       " '_np_version_under1p16': False,\n",
       " '_np_version_under1p17': False,\n",
       " '_np_version_under1p18': False,\n",
       " '_is_numpy_dev': False,\n",
       " '_config': <module 'pandas._config' from 'c:\\\\users\\\\nikita.thakur\\\\appdata\\\\local\\\\programs\\\\python\\\\python36\\\\lib\\\\site-packages\\\\pandas\\\\_config\\\\__init__.py'>,\n",
       " '_libs': <module 'pandas._libs' from 'c:\\\\users\\\\nikita.thakur\\\\appdata\\\\local\\\\programs\\\\python\\\\python36\\\\lib\\\\site-packages\\\\pandas\\\\_libs\\\\__init__.py'>,\n",
       " '_hashtable': <module 'pandas._libs.hashtable' from 'c:\\\\users\\\\nikita.thakur\\\\appdata\\\\local\\\\programs\\\\python\\\\python36\\\\lib\\\\site-packages\\\\pandas\\\\_libs\\\\hashtable.cp36-win_amd64.pyd'>,\n",
       " '_lib': <module 'pandas._libs.lib' from 'c:\\\\users\\\\nikita.thakur\\\\appdata\\\\local\\\\programs\\\\python\\\\python36\\\\lib\\\\site-packages\\\\pandas\\\\_libs\\\\lib.cp36-win_amd64.pyd'>,\n",
       " '_tslib': <module 'pandas._libs.tslib' from 'c:\\\\users\\\\nikita.thakur\\\\appdata\\\\local\\\\programs\\\\python\\\\python36\\\\lib\\\\site-packages\\\\pandas\\\\_libs\\\\tslib.cp36-win_amd64.pyd'>,\n",
       " 'get_option': <pandas._config.config.CallableDynamicDoc at 0x16bc32abeb8>,\n",
       " 'set_option': <pandas._config.config.CallableDynamicDoc at 0x16bc32abef0>,\n",
       " 'reset_option': <pandas._config.config.CallableDynamicDoc at 0x16bc32abf28>,\n",
       " 'describe_option': <pandas._config.config.CallableDynamicDoc at 0x16bc32b10b8>,\n",
       " 'option_context': pandas._config.config.option_context,\n",
       " 'options': <pandas._config.config.DictWrapper at 0x16bc32b1160>,\n",
       " 'core': <module 'pandas.core' from 'c:\\\\users\\\\nikita.thakur\\\\appdata\\\\local\\\\programs\\\\python\\\\python36\\\\lib\\\\site-packages\\\\pandas\\\\core\\\\__init__.py'>,\n",
       " 'pandas': <module 'pandas' from 'c:\\\\users\\\\nikita.thakur\\\\appdata\\\\local\\\\programs\\\\python\\\\python36\\\\lib\\\\site-packages\\\\pandas\\\\__init__.py'>,\n",
       " '_typing': <module 'pandas._typing' from 'c:\\\\users\\\\nikita.thakur\\\\appdata\\\\local\\\\programs\\\\python\\\\python36\\\\lib\\\\site-packages\\\\pandas\\\\_typing.py'>,\n",
       " 'errors': <module 'pandas.errors' from 'c:\\\\users\\\\nikita.thakur\\\\appdata\\\\local\\\\programs\\\\python\\\\python36\\\\lib\\\\site-packages\\\\pandas\\\\errors\\\\__init__.py'>,\n",
       " 'util': <module 'pandas.util' from 'c:\\\\users\\\\nikita.thakur\\\\appdata\\\\local\\\\programs\\\\python\\\\python36\\\\lib\\\\site-packages\\\\pandas\\\\util\\\\__init__.py'>,\n",
       " 'io': <module 'pandas.io' from 'c:\\\\users\\\\nikita.thakur\\\\appdata\\\\local\\\\programs\\\\python\\\\python36\\\\lib\\\\site-packages\\\\pandas\\\\io\\\\__init__.py'>,\n",
       " 'tseries': <module 'pandas.tseries' from 'c:\\\\users\\\\nikita.thakur\\\\appdata\\\\local\\\\programs\\\\python\\\\python36\\\\lib\\\\site-packages\\\\pandas\\\\tseries\\\\__init__.py'>,\n",
       " 'arrays': <module 'pandas.arrays' from 'c:\\\\users\\\\nikita.thakur\\\\appdata\\\\local\\\\programs\\\\python\\\\python36\\\\lib\\\\site-packages\\\\pandas\\\\arrays\\\\__init__.py'>,\n",
       " 'plotting': <module 'pandas.plotting' from 'c:\\\\users\\\\nikita.thakur\\\\appdata\\\\local\\\\programs\\\\python\\\\python36\\\\lib\\\\site-packages\\\\pandas\\\\plotting\\\\__init__.py'>,\n",
       " 'Int8Dtype': pandas.core.arrays.integer.Int8Dtype,\n",
       " 'Int16Dtype': pandas.core.arrays.integer.Int16Dtype,\n",
       " 'Int32Dtype': pandas.core.arrays.integer.Int32Dtype,\n",
       " 'Int64Dtype': pandas.core.arrays.integer.Int64Dtype,\n",
       " 'UInt8Dtype': pandas.core.arrays.integer.UInt8Dtype,\n",
       " 'UInt16Dtype': pandas.core.arrays.integer.UInt16Dtype,\n",
       " 'UInt32Dtype': pandas.core.arrays.integer.UInt32Dtype,\n",
       " 'UInt64Dtype': pandas.core.arrays.integer.UInt64Dtype,\n",
       " 'CategoricalDtype': pandas.core.dtypes.dtypes.CategoricalDtype,\n",
       " 'PeriodDtype': pandas.core.dtypes.dtypes.PeriodDtype,\n",
       " 'IntervalDtype': pandas.core.dtypes.dtypes.IntervalDtype,\n",
       " 'DatetimeTZDtype': pandas.core.dtypes.dtypes.DatetimeTZDtype,\n",
       " 'StringDtype': pandas.core.arrays.string_.StringDtype,\n",
       " 'BooleanDtype': pandas.core.arrays.boolean.BooleanDtype,\n",
       " 'NA': <NA>,\n",
       " 'isna': <function pandas.core.dtypes.missing.isna(obj)>,\n",
       " 'isnull': <function pandas.core.dtypes.missing.isna(obj)>,\n",
       " 'notna': <function pandas.core.dtypes.missing.notna(obj)>,\n",
       " 'notnull': <function pandas.core.dtypes.missing.notna(obj)>,\n",
       " 'Index': pandas.core.indexes.base.Index,\n",
       " 'CategoricalIndex': pandas.core.indexes.category.CategoricalIndex,\n",
       " 'Int64Index': pandas.core.indexes.numeric.Int64Index,\n",
       " 'UInt64Index': pandas.core.indexes.numeric.UInt64Index,\n",
       " 'RangeIndex': pandas.core.indexes.range.RangeIndex,\n",
       " 'Float64Index': pandas.core.indexes.numeric.Float64Index,\n",
       " 'MultiIndex': pandas.core.indexes.multi.MultiIndex,\n",
       " 'IntervalIndex': pandas.core.indexes.interval.IntervalIndex,\n",
       " 'TimedeltaIndex': pandas.core.indexes.timedeltas.TimedeltaIndex,\n",
       " 'DatetimeIndex': pandas.core.indexes.datetimes.DatetimeIndex,\n",
       " 'PeriodIndex': pandas.core.indexes.period.PeriodIndex,\n",
       " 'IndexSlice': <pandas.core.indexing._IndexSlice at 0x16bc38fd780>,\n",
       " 'NaT': NaT,\n",
       " 'Period': pandas._libs.tslibs.period.Period,\n",
       " 'period_range': <function pandas.core.indexes.period.period_range(start=None, end=None, periods=None, freq=None, name=None) -> pandas.core.indexes.period.PeriodIndex>,\n",
       " 'Timedelta': pandas._libs.tslibs.timedeltas.Timedelta,\n",
       " 'timedelta_range': <function pandas.core.indexes.timedeltas.timedelta_range(start=None, end=None, periods=None, freq=None, name=None, closed=None) -> pandas.core.indexes.timedeltas.TimedeltaIndex>,\n",
       " 'Timestamp': pandas._libs.tslibs.timestamps.Timestamp,\n",
       " 'date_range': <function pandas.core.indexes.datetimes.date_range(start=None, end=None, periods=None, freq=None, tz=None, normalize=False, name=None, closed=None, **kwargs) -> pandas.core.indexes.datetimes.DatetimeIndex>,\n",
       " 'bdate_range': <function pandas.core.indexes.datetimes.bdate_range(start=None, end=None, periods=None, freq='B', tz=None, normalize=True, name=None, weekmask=None, holidays=None, closed=None, **kwargs) -> pandas.core.indexes.datetimes.DatetimeIndex>,\n",
       " 'Interval': pandas._libs.interval.Interval,\n",
       " 'interval_range': <function pandas.core.indexes.interval.interval_range(start=None, end=None, periods=None, freq=None, name=None, closed='right')>,\n",
       " 'DateOffset': pandas.tseries.offsets.DateOffset,\n",
       " 'to_numeric': <function pandas.core.tools.numeric.to_numeric(arg, errors='raise', downcast=None)>,\n",
       " 'to_datetime': <function pandas.core.tools.datetimes.to_datetime(arg, errors='raise', dayfirst=False, yearfirst=False, utc=None, format=None, exact=True, unit=None, infer_datetime_format=False, origin='unix', cache=True)>,\n",
       " 'to_timedelta': <function pandas.core.tools.timedeltas.to_timedelta(arg, unit='ns', errors='raise')>,\n",
       " 'Grouper': pandas.core.groupby.grouper.Grouper,\n",
       " 'factorize': <function pandas.core.algorithms.factorize(values, sort:bool=False, na_sentinel:int=-1, size_hint:Union[int, NoneType]=None) -> Tuple[numpy.ndarray, Union[numpy.ndarray, pandas.core.dtypes.generic.ABCIndex]]>,\n",
       " 'unique': <function pandas.core.algorithms.unique(values)>,\n",
       " 'value_counts': <function pandas.core.algorithms.value_counts(values, sort:bool=True, ascending:bool=False, normalize:bool=False, bins=None, dropna:bool=True) -> 'Series'>,\n",
       " 'NamedAgg': pandas.core.groupby.generic.NamedAgg,\n",
       " 'array': <function pandas.core.construction.array(data:Sequence[object], dtype:Union[str, numpy.dtype, pandas.core.dtypes.base.ExtensionDtype, NoneType]=None, copy:bool=True) -> pandas.core.dtypes.generic.ABCExtensionArray>,\n",
       " 'Categorical': pandas.core.arrays.categorical.Categorical,\n",
       " 'set_eng_float_format': <function pandas.io.formats.format.set_eng_float_format(accuracy:int=3, use_eng_prefix:bool=False) -> None>,\n",
       " 'Series': pandas.core.series.Series,\n",
       " 'DataFrame': pandas.core.frame.DataFrame,\n",
       " 'SparseDtype': pandas.core.arrays.sparse.dtype.SparseDtype,\n",
       " 'infer_freq': <function pandas.tseries.frequencies.infer_freq(index, warn:bool=True) -> Union[str, NoneType]>,\n",
       " 'offsets': <module 'pandas.tseries.offsets' from 'c:\\\\users\\\\nikita.thakur\\\\appdata\\\\local\\\\programs\\\\python\\\\python36\\\\lib\\\\site-packages\\\\pandas\\\\tseries\\\\offsets.py'>,\n",
       " 'eval': <function pandas.core.computation.eval.eval(expr, parser='pandas', engine:Union[str, NoneType]=None, truediv=<object object at 0x0000016BBBBA5220>, local_dict=None, global_dict=None, resolvers=(), level=0, target=None, inplace=False)>,\n",
       " 'concat': <function pandas.core.reshape.concat.concat(objs:Union[Iterable[Union[_ForwardRef('DataFrame'), _ForwardRef('Series')]], Mapping[collections.abc.Hashable, Union[_ForwardRef('DataFrame'), _ForwardRef('Series')]]], axis=0, join='outer', ignore_index:bool=False, keys=None, levels=None, names=None, verify_integrity:bool=False, sort:bool=False, copy:bool=True) -> Union[_ForwardRef('DataFrame'), _ForwardRef('Series')]>,\n",
       " 'lreshape': <function pandas.core.reshape.melt.lreshape(data:pandas.core.frame.DataFrame, groups, dropna:bool=True, label=None) -> pandas.core.frame.DataFrame>,\n",
       " 'melt': <function pandas.core.reshape.melt.melt(frame:pandas.core.frame.DataFrame, id_vars=None, value_vars=None, var_name=None, value_name='value', col_level=None) -> pandas.core.frame.DataFrame>,\n",
       " 'wide_to_long': <function pandas.core.reshape.melt.wide_to_long(df:pandas.core.frame.DataFrame, stubnames, i, j, sep:str='', suffix:str='\\\\d+') -> pandas.core.frame.DataFrame>,\n",
       " 'merge': <function pandas.core.reshape.merge.merge(left, right, how:str='inner', on=None, left_on=None, right_on=None, left_index:bool=False, right_index:bool=False, sort:bool=False, suffixes=('_x', '_y'), copy:bool=True, indicator:bool=False, validate=None) -> 'DataFrame'>,\n",
       " 'merge_asof': <function pandas.core.reshape.merge.merge_asof(left, right, on=None, left_on=None, right_on=None, left_index:bool=False, right_index:bool=False, by=None, left_by=None, right_by=None, suffixes=('_x', '_y'), tolerance=None, allow_exact_matches:bool=True, direction:str='backward') -> 'DataFrame'>,\n",
       " 'merge_ordered': <function pandas.core.reshape.merge.merge_ordered(left, right, on=None, left_on=None, right_on=None, left_by=None, right_by=None, fill_method=None, suffixes=('_x', '_y'), how:str='outer') -> 'DataFrame'>,\n",
       " 'crosstab': <function pandas.core.reshape.pivot.crosstab(index, columns, values=None, rownames=None, colnames=None, aggfunc=None, margins=False, margins_name:str='All', dropna:bool=True, normalize=False) -> 'DataFrame'>,\n",
       " 'pivot': <function pandas.core.reshape.pivot.pivot(data:'DataFrame', index=None, columns=None, values=None) -> 'DataFrame'>,\n",
       " 'pivot_table': <function pandas.core.reshape.pivot.pivot_table(data, values=None, index=None, columns=None, aggfunc='mean', fill_value=None, margins=False, dropna=True, margins_name='All', observed=False) -> 'DataFrame'>,\n",
       " 'get_dummies': <function pandas.core.reshape.reshape.get_dummies(data, prefix=None, prefix_sep='_', dummy_na=False, columns=None, sparse=False, drop_first=False, dtype=None) -> 'DataFrame'>,\n",
       " 'cut': <function pandas.core.reshape.tile.cut(x, bins, right:bool=True, labels=None, retbins:bool=False, precision:int=3, include_lowest:bool=False, duplicates:str='raise')>,\n",
       " 'qcut': <function pandas.core.reshape.tile.qcut(x, q, labels=None, retbins:bool=False, precision:int=3, duplicates:str='raise')>,\n",
       " 'api': <module 'pandas.api' from 'c:\\\\users\\\\nikita.thakur\\\\appdata\\\\local\\\\programs\\\\python\\\\python36\\\\lib\\\\site-packages\\\\pandas\\\\api\\\\__init__.py'>,\n",
       " 'show_versions': <function pandas.util._print_versions.show_versions(as_json=False)>,\n",
       " 'ExcelFile': pandas.io.excel._base.ExcelFile,\n",
       " 'ExcelWriter': pandas.io.excel._base.ExcelWriter,\n",
       " 'read_excel': <function pandas.io.excel._base.read_excel(io, sheet_name=0, header=0, names=None, index_col=None, usecols=None, squeeze=False, dtype=None, engine=None, converters=None, true_values=None, false_values=None, skiprows=None, nrows=None, na_values=None, keep_default_na=True, verbose=False, parse_dates=False, date_parser=None, thousands=None, comment=None, skipfooter=0, convert_float=True, mangle_dupe_cols=True, **kwds)>,\n",
       " 'read_csv': <function pandas.io.parsers._make_parser_function.<locals>.parser_f(filepath_or_buffer:Union[str, pathlib.Path, IO[~AnyStr]], sep=',', delimiter=None, header='infer', names=None, index_col=None, usecols=None, squeeze=False, prefix=None, mangle_dupe_cols=True, dtype=None, engine=None, converters=None, true_values=None, false_values=None, skipinitialspace=False, skiprows=None, skipfooter=0, nrows=None, na_values=None, keep_default_na=True, na_filter=True, verbose=False, skip_blank_lines=True, parse_dates=False, infer_datetime_format=False, keep_date_col=False, date_parser=None, dayfirst=False, cache_dates=True, iterator=False, chunksize=None, compression='infer', thousands=None, decimal:str='.', lineterminator=None, quotechar='\"', quoting=0, doublequote=True, escapechar=None, comment=None, encoding=None, dialect=None, error_bad_lines=True, warn_bad_lines=True, delim_whitespace=False, low_memory=True, memory_map=False, float_precision=None)>,\n",
       " 'read_fwf': <function pandas.io.parsers.read_fwf(filepath_or_buffer:Union[str, pathlib.Path, IO[~AnyStr]], colspecs='infer', widths=None, infer_nrows=100, **kwds)>,\n",
       " 'read_table': <function pandas.io.parsers._make_parser_function.<locals>.parser_f(filepath_or_buffer:Union[str, pathlib.Path, IO[~AnyStr]], sep='\\t', delimiter=None, header='infer', names=None, index_col=None, usecols=None, squeeze=False, prefix=None, mangle_dupe_cols=True, dtype=None, engine=None, converters=None, true_values=None, false_values=None, skipinitialspace=False, skiprows=None, skipfooter=0, nrows=None, na_values=None, keep_default_na=True, na_filter=True, verbose=False, skip_blank_lines=True, parse_dates=False, infer_datetime_format=False, keep_date_col=False, date_parser=None, dayfirst=False, cache_dates=True, iterator=False, chunksize=None, compression='infer', thousands=None, decimal:str='.', lineterminator=None, quotechar='\"', quoting=0, doublequote=True, escapechar=None, comment=None, encoding=None, dialect=None, error_bad_lines=True, warn_bad_lines=True, delim_whitespace=False, low_memory=True, memory_map=False, float_precision=None)>,\n",
       " 'read_pickle': <function pandas.io.pickle.read_pickle(filepath_or_buffer:Union[str, pathlib.Path, IO[~AnyStr]], compression:Union[str, NoneType]='infer')>,\n",
       " 'to_pickle': <function pandas.io.pickle.to_pickle(obj:Any, filepath_or_buffer:Union[str, pathlib.Path, IO[~AnyStr]], compression:Union[str, NoneType]='infer', protocol:int=4)>,\n",
       " 'HDFStore': pandas.io.pytables.HDFStore,\n",
       " 'read_hdf': <function pandas.io.pytables.read_hdf(path_or_buf, key=None, mode:str='r', errors:str='strict', where=None, start:Union[int, NoneType]=None, stop:Union[int, NoneType]=None, columns=None, iterator=False, chunksize:Union[int, NoneType]=None, **kwargs)>,\n",
       " 'read_sql': <function pandas.io.sql.read_sql(sql, con, index_col=None, coerce_float=True, params=None, parse_dates=None, columns=None, chunksize=None)>,\n",
       " 'read_sql_query': <function pandas.io.sql.read_sql_query(sql, con, index_col=None, coerce_float=True, params=None, parse_dates=None, chunksize=None)>,\n",
       " 'read_sql_table': <function pandas.io.sql.read_sql_table(table_name, con, schema=None, index_col=None, coerce_float=True, parse_dates=None, columns=None, chunksize=None)>,\n",
       " 'read_clipboard': <function pandas.io.clipboards.read_clipboard(sep='\\\\s+', **kwargs)>,\n",
       " 'read_parquet': <function pandas.io.parquet.read_parquet(path, engine:str='auto', columns=None, **kwargs)>,\n",
       " 'read_orc': <function pandas.io.orc.read_orc(path:Union[str, pathlib.Path, IO[~AnyStr]], columns:Union[List[str], NoneType]=None, **kwargs) -> 'DataFrame'>,\n",
       " 'read_feather': <function pandas.io.feather_format.read_feather(path, columns=None, use_threads:bool=True)>,\n",
       " 'read_gbq': <function pandas.io.gbq.read_gbq(query:str, project_id:Union[str, NoneType]=None, index_col:Union[str, NoneType]=None, col_order:Union[List[str], NoneType]=None, reauth:bool=False, auth_local_webserver:bool=False, dialect:Union[str, NoneType]=None, location:Union[str, NoneType]=None, configuration:Union[Dict[str, Any], NoneType]=None, credentials=None, use_bqstorage_api:Union[bool, NoneType]=None, private_key=None, verbose=None, progress_bar_type:Union[str, NoneType]=None) -> 'DataFrame'>,\n",
       " 'read_html': <function pandas.io.html.read_html(io, match='.+', flavor=None, header=None, index_col=None, skiprows=None, attrs=None, parse_dates=False, thousands=',', encoding=None, decimal='.', converters=None, na_values=None, keep_default_na=True, displayed_only=True)>,\n",
       " 'read_json': <function pandas.io.json._json.read_json(path_or_buf=None, orient=None, typ='frame', dtype=None, convert_axes=None, convert_dates=True, keep_default_dates=True, numpy=False, precise_float=False, date_unit=None, encoding=None, lines=False, chunksize=None, compression='infer')>,\n",
       " 'read_stata': <function pandas.io.stata.read_stata(filepath_or_buffer, convert_dates=True, convert_categoricals=True, index_col=None, convert_missing=False, preserve_dtypes=True, columns=None, order_categoricals=True, chunksize=None, iterator=False)>,\n",
       " 'read_sas': <function pandas.io.sas.sasreader.read_sas(filepath_or_buffer, format=None, index=None, encoding=None, chunksize=None, iterator=False)>,\n",
       " 'read_spss': <function pandas.io.spss.read_spss(path:Union[str, pathlib.Path], usecols:Union[Sequence[str], NoneType]=None, convert_categoricals:bool=True) -> pandas.core.frame.DataFrame>,\n",
       " 'json_normalize': <function pandas.io.json._normalize._json_normalize(data:Union[Dict, List[Dict]], record_path:Union[str, List, NoneType]=None, meta:Union[str, List[Union[str, List[str]]], NoneType]=None, meta_prefix:Union[str, NoneType]=None, record_prefix:Union[str, NoneType]=None, errors:Union[str, NoneType]='raise', sep:str='.', max_level:Union[int, NoneType]=None) -> 'DataFrame'>,\n",
       " 'test': <function pandas.util._tester.test(extra_args=None)>,\n",
       " '_testing': <module 'pandas._testing' from 'c:\\\\users\\\\nikita.thakur\\\\appdata\\\\local\\\\programs\\\\python\\\\python36\\\\lib\\\\site-packages\\\\pandas\\\\_testing.py'>,\n",
       " 'testing': <module 'pandas.testing' from 'c:\\\\users\\\\nikita.thakur\\\\appdata\\\\local\\\\programs\\\\python\\\\python36\\\\lib\\\\site-packages\\\\pandas\\\\testing.py'>,\n",
       " '_version': <module 'pandas._version' from 'c:\\\\users\\\\nikita.thakur\\\\appdata\\\\local\\\\programs\\\\python\\\\python36\\\\lib\\\\site-packages\\\\pandas\\\\_version.py'>,\n",
       " '__version__': '1.0.5',\n",
       " '__git_version__': 'b687cd4d9e520666a956a60849568a98dd00c672',\n",
       " 'Panel': pandas.Panel,\n",
       " 'SparseDataFrame': pandas.SparseDataFrame,\n",
       " 'SparseSeries': pandas.SparseSeries,\n",
       " '__numpy': pandas.__numpy,\n",
       " 'np': <pandas.__numpy at 0x16bc3d2bf98>,\n",
       " '__Datetime': pandas.__Datetime,\n",
       " '__DatetimeSub': pandas.__DatetimeSub,\n",
       " 'datetime': pandas.__DatetimeSub,\n",
       " '__SparseArray': pandas.__SparseArray,\n",
       " '__SparseArraySub': pandas.__SparseArraySub,\n",
       " 'SparseArray': pandas.__SparseArraySub}"
      ]
     },
     "execution_count": 3,
     "metadata": {},
     "output_type": "execute_result"
    }
   ],
   "source": [
    "pd.__dict__"
   ]
  },
  {
   "cell_type": "code",
   "execution_count": 5,
   "metadata": {},
   "outputs": [
    {
     "data": {
      "text/plain": [
       "'3.6.5 (v3.6.5:f59c0932b4, Mar 28 2018, 17:00:18) [MSC v.1900 64 bit (AMD64)]'"
      ]
     },
     "execution_count": 5,
     "metadata": {},
     "output_type": "execute_result"
    }
   ],
   "source": [
    "sys.version"
   ]
  },
  {
   "cell_type": "code",
   "execution_count": 6,
   "metadata": {},
   "outputs": [
    {
     "data": {
      "text/plain": [
       "'1.0.5'"
      ]
     },
     "execution_count": 6,
     "metadata": {},
     "output_type": "execute_result"
    }
   ],
   "source": [
    "pd.__version__"
   ]
  },
  {
   "cell_type": "code",
   "execution_count": 7,
   "metadata": {},
   "outputs": [],
   "source": [
    "data = ['Sunday',\n",
    "        'Monday',\n",
    "        'Tuesday',\n",
    "        'Wednesday',\n",
    "        'Thursday',\n",
    "        'Friday',\n",
    "        'Saturday']"
   ]
  },
  {
   "cell_type": "code",
   "execution_count": 10,
   "metadata": {},
   "outputs": [
    {
     "data": {
      "text/plain": [
       "0       Sunday\n",
       "1       Monday\n",
       "2      Tuesday\n",
       "3    Wednesday\n",
       "4     Thursday\n",
       "5       Friday\n",
       "6     Saturday\n",
       "dtype: object"
      ]
     },
     "execution_count": 10,
     "metadata": {},
     "output_type": "execute_result"
    }
   ],
   "source": [
    "week = pd.Series(data)\n",
    "\n",
    "week"
   ]
  },
  {
   "cell_type": "code",
   "execution_count": 11,
   "metadata": {},
   "outputs": [
    {
     "data": {
      "text/plain": [
       "pandas.core.series.Series"
      ]
     },
     "execution_count": 11,
     "metadata": {},
     "output_type": "execute_result"
    }
   ],
   "source": [
    "type(week)"
   ]
  },
  {
   "cell_type": "code",
   "execution_count": 12,
   "metadata": {},
   "outputs": [
    {
     "data": {
      "text/plain": [
       "{'_is_copy': None,\n",
       " '_data': SingleBlockManager\n",
       " Items: RangeIndex(start=0, stop=7, step=1)\n",
       " ObjectBlock: 7 dtype: object,\n",
       " '_item_cache': {},\n",
       " '_attrs': {},\n",
       " '_name': None,\n",
       " '_subtyp': 'series',\n",
       " '_index': RangeIndex(start=0, stop=7, step=1)}"
      ]
     },
     "execution_count": 12,
     "metadata": {},
     "output_type": "execute_result"
    }
   ],
   "source": [
    "week.__dict__"
   ]
  },
  {
   "cell_type": "code",
   "execution_count": 14,
   "metadata": {},
   "outputs": [
    {
     "data": {
      "text/plain": [
       "array([  0,   1,   4,   9,  16,  25,  36,  49,  64,  81, 100, 121, 144,\n",
       "       169, 196, 225], dtype=int32)"
      ]
     },
     "execution_count": 14,
     "metadata": {},
     "output_type": "execute_result"
    }
   ],
   "source": [
    "square_series = np.arange(16)**2\n",
    "square_series"
   ]
  },
  {
   "cell_type": "code",
   "execution_count": 16,
   "metadata": {},
   "outputs": [
    {
     "data": {
      "text/plain": [
       "0       0\n",
       "1       1\n",
       "2       4\n",
       "3       9\n",
       "4      16\n",
       "5      25\n",
       "6      36\n",
       "7      49\n",
       "8      64\n",
       "9      81\n",
       "10    100\n",
       "11    121\n",
       "12    144\n",
       "13    169\n",
       "14    196\n",
       "15    225\n",
       "dtype: int32"
      ]
     },
     "execution_count": 16,
     "metadata": {},
     "output_type": "execute_result"
    }
   ],
   "source": [
    "Sq_series = pd.Series(square_series)\n",
    "Sq_series"
   ]
  },
  {
   "cell_type": "code",
   "execution_count": 17,
   "metadata": {},
   "outputs": [],
   "source": [
    "emp_fields = ['name','age','city']\n",
    "emp_data = ['Nikita','24','Mumbai']"
   ]
  },
  {
   "cell_type": "code",
   "execution_count": 18,
   "metadata": {},
   "outputs": [
    {
     "data": {
      "text/plain": [
       "name    Nikita\n",
       "age         24\n",
       "city    Mumbai\n",
       "dtype: object"
      ]
     },
     "execution_count": 18,
     "metadata": {},
     "output_type": "execute_result"
    }
   ],
   "source": [
    "emp_series = pd.Series(index = emp_fields,\n",
    "                       data = emp_data)\n",
    "\n",
    "emp_series"
   ]
  },
  {
   "cell_type": "code",
   "execution_count": 19,
   "metadata": {},
   "outputs": [
    {
     "data": {
      "text/plain": [
       "'Nikita'"
      ]
     },
     "execution_count": 19,
     "metadata": {},
     "output_type": "execute_result"
    }
   ],
   "source": [
    "emp_series['name']"
   ]
  },
  {
   "cell_type": "code",
   "execution_count": 20,
   "metadata": {},
   "outputs": [
    {
     "data": {
      "text/plain": [
       "city    Mumbai\n",
       "age         24\n",
       "name    Nikita\n",
       "dtype: object"
      ]
     },
     "execution_count": 20,
     "metadata": {},
     "output_type": "execute_result"
    }
   ],
   "source": [
    "emp_series[::-1]"
   ]
  },
  {
   "cell_type": "code",
   "execution_count": 21,
   "metadata": {},
   "outputs": [],
   "source": [
    "countries_dict = { 'India':'Delhi',\n",
    "                   'Pakistan':'Karachi',\n",
    "                   'China':'Beijeng',\n",
    "                   'USA':'Washington'\n",
    "                 }\n",
    "\n",
    "countries_series = pd.Series(countries_dict)"
   ]
  },
  {
   "cell_type": "code",
   "execution_count": 22,
   "metadata": {},
   "outputs": [
    {
     "data": {
      "text/plain": [
       "India            Delhi\n",
       "Pakistan       Karachi\n",
       "China          Beijeng\n",
       "USA         Washington\n",
       "dtype: object"
      ]
     },
     "execution_count": 22,
     "metadata": {},
     "output_type": "execute_result"
    }
   ],
   "source": [
    "countries_series"
   ]
  },
  {
   "cell_type": "code",
   "execution_count": 23,
   "metadata": {},
   "outputs": [
    {
     "data": {
      "text/plain": [
       "array(['Delhi', 'Karachi', 'Beijeng', 'Washington'], dtype=object)"
      ]
     },
     "execution_count": 23,
     "metadata": {},
     "output_type": "execute_result"
    }
   ],
   "source": [
    "countries_series.values"
   ]
  },
  {
   "cell_type": "code",
   "execution_count": 24,
   "metadata": {},
   "outputs": [
    {
     "data": {
      "text/plain": [
       "Index(['India', 'Pakistan', 'China', 'USA'], dtype='object')"
      ]
     },
     "execution_count": 24,
     "metadata": {},
     "output_type": "execute_result"
    }
   ],
   "source": [
    "countries_series.index"
   ]
  },
  {
   "cell_type": "code",
   "execution_count": 27,
   "metadata": {},
   "outputs": [
    {
     "data": {
      "text/plain": [
       "India         Delhi\n",
       "USA      Washington\n",
       "dtype: object"
      ]
     },
     "execution_count": 27,
     "metadata": {},
     "output_type": "execute_result"
    }
   ],
   "source": [
    "countries_series[['India','USA']]"
   ]
  },
  {
   "cell_type": "code",
   "execution_count": null,
   "metadata": {},
   "outputs": [],
   "source": []
  },
  {
   "cell_type": "code",
   "execution_count": null,
   "metadata": {},
   "outputs": [],
   "source": []
  },
  {
   "cell_type": "code",
   "execution_count": null,
   "metadata": {},
   "outputs": [],
   "source": []
  },
  {
   "cell_type": "code",
   "execution_count": null,
   "metadata": {},
   "outputs": [],
   "source": []
  }
 ],
 "metadata": {
  "kernelspec": {
   "display_name": "Python 3",
   "language": "python",
   "name": "python3"
  },
  "language_info": {
   "codemirror_mode": {
    "name": "ipython",
    "version": 3
   },
   "file_extension": ".py",
   "mimetype": "text/x-python",
   "name": "python",
   "nbconvert_exporter": "python",
   "pygments_lexer": "ipython3",
   "version": "3.6.5"
  }
 },
 "nbformat": 4,
 "nbformat_minor": 4
}
