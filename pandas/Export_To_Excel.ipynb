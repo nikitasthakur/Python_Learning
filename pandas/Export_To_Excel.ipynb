{
 "cells": [
  {
   "cell_type": "code",
   "execution_count": 1,
   "metadata": {
    "collapsed": true
   },
   "outputs": [],
   "source": [
    "import pandas as pd"
   ]
  },
  {
   "cell_type": "code",
   "execution_count": 2,
   "metadata": {},
   "outputs": [
    {
     "data": {
      "text/html": [
       "<div>\n",
       "<style scoped>\n",
       "    .dataframe tbody tr th:only-of-type {\n",
       "        vertical-align: middle;\n",
       "    }\n",
       "\n",
       "    .dataframe tbody tr th {\n",
       "        vertical-align: top;\n",
       "    }\n",
       "\n",
       "    .dataframe thead th {\n",
       "        text-align: right;\n",
       "    }\n",
       "</style>\n",
       "<table border=\"1\" class=\"dataframe\">\n",
       "  <thead>\n",
       "    <tr style=\"text-align: right;\">\n",
       "      <th></th>\n",
       "      <th>Company</th>\n",
       "      <th>Headquarters</th>\n",
       "      <th>CEO</th>\n",
       "    </tr>\n",
       "  </thead>\n",
       "  <tbody>\n",
       "    <tr>\n",
       "      <th>0</th>\n",
       "      <td>HP</td>\n",
       "      <td>California</td>\n",
       "      <td>Dion Weisler</td>\n",
       "    </tr>\n",
       "    <tr>\n",
       "      <th>1</th>\n",
       "      <td>IBM</td>\n",
       "      <td>New York</td>\n",
       "      <td>Ginni Rometty</td>\n",
       "    </tr>\n",
       "    <tr>\n",
       "      <th>2</th>\n",
       "      <td>Intel</td>\n",
       "      <td>California</td>\n",
       "      <td>Robert H. Swan</td>\n",
       "    </tr>\n",
       "    <tr>\n",
       "      <th>3</th>\n",
       "      <td>Microsoft</td>\n",
       "      <td>Washington</td>\n",
       "      <td>Satya Nadella</td>\n",
       "    </tr>\n",
       "    <tr>\n",
       "      <th>4</th>\n",
       "      <td>Amazon</td>\n",
       "      <td>Washington</td>\n",
       "      <td>Jeff Bezos</td>\n",
       "    </tr>\n",
       "    <tr>\n",
       "      <th>5</th>\n",
       "      <td>Apple Inc.</td>\n",
       "      <td>California</td>\n",
       "      <td>Tim Cook</td>\n",
       "    </tr>\n",
       "  </tbody>\n",
       "</table>\n",
       "</div>"
      ],
      "text/plain": [
       "      Company Headquarters             CEO\n",
       "0          HP   California    Dion Weisler\n",
       "1         IBM     New York   Ginni Rometty\n",
       "2       Intel   California  Robert H. Swan\n",
       "3   Microsoft   Washington   Satya Nadella\n",
       "4      Amazon   Washington      Jeff Bezos\n",
       "5  Apple Inc.   California        Tim Cook"
      ]
     },
     "execution_count": 2,
     "metadata": {},
     "output_type": "execute_result"
    }
   ],
   "source": [
    "data = {'Company' : ['HP', 'IBM', 'Intel', 'Microsoft', \n",
    "                     'Amazon', 'Apple Inc.'],\n",
    "      \n",
    "        'Headquarters' : ['California', 'New York', 'California', \n",
    "                        'Washington', 'Washington', 'California'],\n",
    "      \n",
    "        'CEO'         : ['Dion Weisler', 'Ginni Rometty', 'Robert H. Swan', \n",
    "                       'Satya Nadella', 'Jeff Bezos','Tim Cook'],\n",
    "      \n",
    "       }\n",
    "\n",
    "tech_company_df = pd.DataFrame(data)\n",
    "\n",
    "tech_company_df"
   ]
  },
  {
   "cell_type": "code",
   "execution_count": 3,
   "metadata": {},
   "outputs": [
    {
     "name": "stdout",
     "output_type": "stream",
     "text": [
      "Data Exported to EXCEL file\n"
     ]
    }
   ],
   "source": [
    "tech_company_df.to_excel('./datasets/Tech_company.xlsx', \n",
    "                         index = False)\n",
    "\n",
    "print('Data Exported to EXCEL file')"
   ]
  },
  {
   "cell_type": "code",
   "execution_count": 4,
   "metadata": {},
   "outputs": [
    {
     "name": "stdout",
     "output_type": "stream",
     "text": [
      "Data Exported to TEXT file\n"
     ]
    }
   ],
   "source": [
    "tech_company_df.to_csv('./datasets/Tech_company.txt', \n",
    "                       index = False)\n",
    "\n",
    "print('Data Exported to TEXT file')"
   ]
  },
  {
   "cell_type": "code",
   "execution_count": 5,
   "metadata": {},
   "outputs": [
    {
     "name": "stdout",
     "output_type": "stream",
     "text": [
      "Data Exported to CSV file\n"
     ]
    }
   ],
   "source": [
    "tech_company_df.to_csv('./datasets/Tech_companys.csv', \n",
    "                       index = False)\n",
    "\n",
    "print('Data Exported to CSV file')"
   ]
  },
  {
   "cell_type": "code",
   "execution_count": 6,
   "metadata": {},
   "outputs": [
    {
     "name": "stdout",
     "output_type": "stream",
     "text": [
      "Data Exported to DOCUMENT file\n"
     ]
    }
   ],
   "source": [
    "tech_company_df.to_csv('./datasets/Tech_company.doc', \n",
    "                       index = False)\n",
    "\n",
    "print('Data Exported to DOCUMENT file')"
   ]
  },
  {
   "cell_type": "code",
   "execution_count": 7,
   "metadata": {},
   "outputs": [
    {
     "name": "stdout",
     "output_type": "stream",
     "text": [
      "Data Exported to JSON file\n"
     ]
    }
   ],
   "source": [
    "tech_company_df.to_json('datasets/Tech_company.json')\n",
    "\n",
    "print('Data Exported to JSON file')"
   ]
  },
  {
   "cell_type": "code",
   "execution_count": 8,
   "metadata": {},
   "outputs": [
    {
     "name": "stdout",
     "output_type": "stream",
     "text": [
      "Data Exported to HTML file\n"
     ]
    }
   ],
   "source": [
    "tech_company_df.to_html('./DATASETS/Tech_company.html', index = False)\n",
    "\n",
    "print('Data Exported to HTML file')"
   ]
  },
  {
   "cell_type": "code",
   "execution_count": null,
   "metadata": {
    "collapsed": true
   },
   "outputs": [],
   "source": []
  }
 ],
 "metadata": {
  "kernelspec": {
   "display_name": "Python 3",
   "language": "python",
   "name": "python3"
  },
  "language_info": {
   "codemirror_mode": {
    "name": "ipython",
    "version": 3
   },
   "file_extension": ".py",
   "mimetype": "text/x-python",
   "name": "python",
   "nbconvert_exporter": "python",
   "pygments_lexer": "ipython3",
   "version": "3.6.5"
  }
 },
 "nbformat": 4,
 "nbformat_minor": 2
}
