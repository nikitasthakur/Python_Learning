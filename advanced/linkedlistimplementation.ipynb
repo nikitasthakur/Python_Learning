{
 "cells": [
  {
   "cell_type": "code",
   "execution_count": 11,
   "metadata": {},
   "outputs": [],
   "source": [
    "class Node:\n",
    "    \"\"\"\n",
    "    A node in a singly-linked list.\n",
    "    values are initialized to none in case not provided explicitly.\n",
    "    \"\"\"\n",
    "    \n",
    "    def __init__(self,dataval=None,nextval=None):\n",
    "        self.dataval = dataval\n",
    "        self.nextval = nextval\n",
    "        \n",
    "    def __repr__(self):\n",
    "        return repr(self.dataval)\n",
    "        "
   ]
  },
  {
   "cell_type": "code",
   "execution_count": 56,
   "metadata": {},
   "outputs": [],
   "source": [
    "class LinkedList:\n",
    "    \"\"\"Creating a new singly-linked list.\n",
    "    \n",
    "    functions: repr, prepend,append,addafter,find,remove,reverse,reverse_recursive,count_nodes\n",
    "    \n",
    "    \"\"\"\n",
    "    def __init__(self):\n",
    "        self.head = None\n",
    "    \n",
    "    def __repr__(self):\n",
    "        nodes = []\n",
    "        curr = self.head\n",
    "        \n",
    "        while curr:\n",
    "            nodes.append(repr(curr))\n",
    "            curr = curr.nextval\n",
    "\n",
    "        return '[' + '->'.join(nodes) + ']'\n",
    "    \n",
    "    def prepend(self,dataval):\n",
    "        \n",
    "        self.head = Node(dataval=dataval,nextval = self.head)\n",
    "        \n",
    "    def append(self,dataval):\n",
    "        \n",
    "        if not self.head:\n",
    "            self.head = Node(dataval = dataval)\n",
    "            return\n",
    "        \n",
    "        curr = self.head\n",
    "        \n",
    "        while curr.nextval:\n",
    "            curr = curr.nextval\n",
    "        \n",
    "        curr.nextval = Node(dataval=dataval)\n",
    "        \n",
    "    \n",
    "    def add_after(self,middle_dataval,dataval):\n",
    "        \n",
    "        if middle_dataval is None:\n",
    "            print(\"Data to insert after not specified\")\n",
    "            return\n",
    "        \n",
    "        curr = self.head\n",
    "        \n",
    "        while curr and curr.dataval != middle_dataval:\n",
    "            curr = curr.nextval\n",
    "        \n",
    "        New_Node = Node(dataval=dataval,nextval=curr.nextval)\n",
    "        curr.nextval = New_Node\n",
    "    \n",
    "    def find(self, data):\n",
    "\n",
    "        \"\"\"Search for the first element with `dataval` matching\n",
    "        `data`. Return the element or `None` if not found.\"\"\"\n",
    "\n",
    "        curr = self.head\n",
    "        while curr and curr.dataval != data:\n",
    "            curr = curr.nextval\n",
    "\n",
    "        return curr  # Will be None if not found\n",
    "    \n",
    "    def remove(self,data):\n",
    "        \n",
    "        \"\"\"Remove the first occurrence of `data` in the list.\"\"\"\n",
    "\n",
    "        # Find the element and keep a\n",
    "        # reference to the element preceding it\n",
    "        curr = self.head\n",
    "        prev = None\n",
    "\n",
    "        while curr and curr.dataval != data:\n",
    "            prev = curr\n",
    "            curr = curr.nextval\n",
    "            \n",
    "        # Unlink it from the list\n",
    "        if prev is None:\n",
    "            self.head = curr.nextval\n",
    "        elif curr:\n",
    "            prev.nextval = curr.nextval\n",
    "            curr.nextval = None\n",
    "            \n",
    "    def count_nodes(self):\n",
    "\n",
    "        \"\"\"Count the number of nodes in the linked list.\"\"\"\n",
    "\n",
    "        if (self.head  == None): \n",
    "            return  0\n",
    "        else: \n",
    "            curr = self.head\n",
    "            count = 0\n",
    "            while (curr != None):\n",
    "                curr = curr.nextval\n",
    "                count += 1            \n",
    "        \n",
    "        return count\n",
    "    \n",
    "    def reverse(self):\n",
    "        \n",
    "        \"\"\"Reverse the list in-place.\"\"\"\n",
    "        \n",
    "        curr = self.head\n",
    "\n",
    "        prev_node = None\n",
    "        next_node = None\n",
    "        \n",
    "        while curr:\n",
    "            nextval = curr.nextval\n",
    "            curr.nextval = prev_node\n",
    "            \n",
    "            prev_node = curr\n",
    "            \n",
    "            curr = nextval   \n",
    "            \n",
    "        self.head = prev_node\n",
    "    \n",
    "    def reverse_recursive(self):\n",
    "        \"\"\"Reverse the list in place using recursion\"\"\"\n",
    "        \n",
    " \n",
    "        def recursion(curr, prev):\n",
    "            if not curr:\n",
    "                return prev\n",
    "            \n",
    "            nextval = curr.nextval\n",
    "            curr.nextval = prev\n",
    "            \n",
    "            prev = curr\n",
    "            curr = nextval\n",
    "            \n",
    "            return recursion(curr, prev)\n",
    " \n",
    "        # update the head of the original linked list \n",
    "        self.head = recursion(curr=self.head, prev=None)\n",
    "        \n",
    "            "
   ]
  },
  {
   "cell_type": "code",
   "execution_count": 57,
   "metadata": {},
   "outputs": [],
   "source": [
    "numbers = LinkedList()"
   ]
  },
  {
   "cell_type": "code",
   "execution_count": 58,
   "metadata": {},
   "outputs": [
    {
     "data": {
      "text/plain": [
       "[]"
      ]
     },
     "execution_count": 58,
     "metadata": {},
     "output_type": "execute_result"
    }
   ],
   "source": [
    "numbers"
   ]
  },
  {
   "cell_type": "code",
   "execution_count": 59,
   "metadata": {},
   "outputs": [],
   "source": [
    "numbers.append('two')\n",
    "numbers.append('three')"
   ]
  },
  {
   "cell_type": "code",
   "execution_count": 32,
   "metadata": {},
   "outputs": [
    {
     "data": {
      "text/plain": [
       "['two'->'three']"
      ]
     },
     "execution_count": 32,
     "metadata": {},
     "output_type": "execute_result"
    }
   ],
   "source": [
    "numbers"
   ]
  },
  {
   "cell_type": "code",
   "execution_count": 60,
   "metadata": {},
   "outputs": [
    {
     "data": {
      "text/plain": [
       "['one'->'two'->'three']"
      ]
     },
     "execution_count": 60,
     "metadata": {},
     "output_type": "execute_result"
    }
   ],
   "source": [
    "numbers.prepend('one')\n",
    "numbers"
   ]
  },
  {
   "cell_type": "code",
   "execution_count": 61,
   "metadata": {},
   "outputs": [
    {
     "data": {
      "text/plain": [
       "['one'->'two'->'three'->'four'->'five'->'seven']"
      ]
     },
     "execution_count": 61,
     "metadata": {},
     "output_type": "execute_result"
    }
   ],
   "source": [
    "numbers.append(\"four\")\n",
    "numbers.append(\"five\")\n",
    "numbers.append(\"seven\")\n",
    "\n",
    "numbers"
   ]
  },
  {
   "cell_type": "code",
   "execution_count": 53,
   "metadata": {},
   "outputs": [
    {
     "data": {
      "text/plain": [
       "['one'->'two'->'three'->'four'->'five'->'six'->'seven']"
      ]
     },
     "execution_count": 53,
     "metadata": {},
     "output_type": "execute_result"
    }
   ],
   "source": [
    "numbers.add_after(\"five\", \"six\")\n",
    "\n",
    "numbers"
   ]
  },
  {
   "cell_type": "code",
   "execution_count": 36,
   "metadata": {},
   "outputs": [
    {
     "data": {
      "text/plain": [
       "['two'->'three'->'four'->'five'->'six'->'seven']"
      ]
     },
     "execution_count": 36,
     "metadata": {},
     "output_type": "execute_result"
    }
   ],
   "source": [
    "numbers.remove('one')\n",
    "\n",
    "numbers"
   ]
  },
  {
   "cell_type": "code",
   "execution_count": 62,
   "metadata": {},
   "outputs": [
    {
     "data": {
      "text/plain": [
       "['one'->'two'->'three'->'four'->'five'->'seven']"
      ]
     },
     "execution_count": 62,
     "metadata": {},
     "output_type": "execute_result"
    }
   ],
   "source": [
    "numbers"
   ]
  },
  {
   "cell_type": "code",
   "execution_count": 63,
   "metadata": {},
   "outputs": [
    {
     "data": {
      "text/plain": [
       "['seven'->'five'->'four'->'three'->'two'->'one']"
      ]
     },
     "execution_count": 63,
     "metadata": {},
     "output_type": "execute_result"
    }
   ],
   "source": [
    "numbers.reverse()\n",
    "numbers"
   ]
  },
  {
   "cell_type": "code",
   "execution_count": 64,
   "metadata": {},
   "outputs": [
    {
     "data": {
      "text/plain": [
       "6"
      ]
     },
     "execution_count": 64,
     "metadata": {},
     "output_type": "execute_result"
    }
   ],
   "source": [
    "numbers.count_nodes()"
   ]
  },
  {
   "cell_type": "code",
   "execution_count": null,
   "metadata": {},
   "outputs": [],
   "source": []
  }
 ],
 "metadata": {
  "kernelspec": {
   "display_name": "Python 3",
   "language": "python",
   "name": "python3"
  },
  "language_info": {
   "codemirror_mode": {
    "name": "ipython",
    "version": 3
   },
   "file_extension": ".py",
   "mimetype": "text/x-python",
   "name": "python",
   "nbconvert_exporter": "python",
   "pygments_lexer": "ipython3",
   "version": "3.6.5"
  }
 },
 "nbformat": 4,
 "nbformat_minor": 4
}
