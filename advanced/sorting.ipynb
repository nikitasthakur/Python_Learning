{
 "cells": [
  {
   "cell_type": "code",
   "execution_count": 8,
   "metadata": {},
   "outputs": [],
   "source": [
    "def print_list(num_list):\n",
    "    print(num_list)"
   ]
  },
  {
   "cell_type": "code",
   "execution_count": 4,
   "metadata": {},
   "outputs": [],
   "source": [
    "#selection Sort\n",
    "\n",
    "def selection_sort(original_list):\n",
    "    length = len(original_list)\n",
    "    \n",
    "    for i in range(length):\n",
    "        \n",
    "        minimum_value_index = i\n",
    "        for j in range(i+1,length):\n",
    "            \n",
    "            if original_list[minimum_value_index] > original_list[j]:\n",
    "                minimum_value_index = j\n",
    "        \n",
    "        #swap\n",
    "        original_list[i],original_list[minimum_value_index] = original_list[minimum_value_index],original_list[i]\n",
    "        \n",
    "        print(\"list sorted till index: \", i)\n",
    "        print_list(original_list)\n",
    "    \n",
    "    print('Sorted List:')\n",
    "    print_list(original_list)"
   ]
  },
  {
   "cell_type": "code",
   "execution_count": 2,
   "metadata": {},
   "outputs": [],
   "source": [
    "num_list = [10,11,4,6,2,8,9,3,1,5,7]"
   ]
  },
  {
   "cell_type": "code",
   "execution_count": 9,
   "metadata": {},
   "outputs": [
    {
     "name": "stdout",
     "output_type": "stream",
     "text": [
      "list sorted till index:  0\n",
      "[1, 11, 4, 6, 2, 8, 9, 3, 10, 5, 7]\n",
      "list sorted till index:  1\n",
      "[1, 2, 4, 6, 11, 8, 9, 3, 10, 5, 7]\n",
      "list sorted till index:  2\n",
      "[1, 2, 3, 6, 11, 8, 9, 4, 10, 5, 7]\n",
      "list sorted till index:  3\n",
      "[1, 2, 3, 4, 11, 8, 9, 6, 10, 5, 7]\n",
      "list sorted till index:  4\n",
      "[1, 2, 3, 4, 5, 8, 9, 6, 10, 11, 7]\n",
      "list sorted till index:  5\n",
      "[1, 2, 3, 4, 5, 6, 9, 8, 10, 11, 7]\n",
      "list sorted till index:  6\n",
      "[1, 2, 3, 4, 5, 6, 7, 8, 10, 11, 9]\n",
      "list sorted till index:  7\n",
      "[1, 2, 3, 4, 5, 6, 7, 8, 10, 11, 9]\n",
      "list sorted till index:  8\n",
      "[1, 2, 3, 4, 5, 6, 7, 8, 9, 11, 10]\n",
      "list sorted till index:  9\n",
      "[1, 2, 3, 4, 5, 6, 7, 8, 9, 10, 11]\n",
      "list sorted till index:  10\n",
      "[1, 2, 3, 4, 5, 6, 7, 8, 9, 10, 11]\n",
      "Sorted List:\n",
      "[1, 2, 3, 4, 5, 6, 7, 8, 9, 10, 11]\n"
     ]
    }
   ],
   "source": [
    "selection_sort(num_list)"
   ]
  },
  {
   "cell_type": "code",
   "execution_count": 10,
   "metadata": {},
   "outputs": [],
   "source": [
    "animal_list = ['Lion','Elephant','Tiger','Zebra','Cat','Dog']"
   ]
  },
  {
   "cell_type": "code",
   "execution_count": 12,
   "metadata": {},
   "outputs": [
    {
     "name": "stdout",
     "output_type": "stream",
     "text": [
      "list sorted till index:  0\n",
      "['Cat', 'Elephant', 'Tiger', 'Zebra', 'Lion', 'Dog']\n",
      "list sorted till index:  1\n",
      "['Cat', 'Dog', 'Tiger', 'Zebra', 'Lion', 'Elephant']\n",
      "list sorted till index:  2\n",
      "['Cat', 'Dog', 'Elephant', 'Zebra', 'Lion', 'Tiger']\n",
      "list sorted till index:  3\n",
      "['Cat', 'Dog', 'Elephant', 'Lion', 'Zebra', 'Tiger']\n",
      "list sorted till index:  4\n",
      "['Cat', 'Dog', 'Elephant', 'Lion', 'Tiger', 'Zebra']\n",
      "list sorted till index:  5\n",
      "['Cat', 'Dog', 'Elephant', 'Lion', 'Tiger', 'Zebra']\n",
      "Sorted List:\n",
      "['Cat', 'Dog', 'Elephant', 'Lion', 'Tiger', 'Zebra']\n"
     ]
    }
   ],
   "source": [
    "selection_sort(animal_list)"
   ]
  },
  {
   "cell_type": "code",
   "execution_count": 13,
   "metadata": {},
   "outputs": [],
   "source": [
    "#Bubble Sort\n",
    "def bubble_sort(original_list):\n",
    "    length = len(original_list)\n",
    "    \n",
    "    for i in range(length-1,0,-1):\n",
    "        \n",
    "        for index in range(i):\n",
    "            if original_list[index] > original_list[index+1]:\n",
    "                original_list[index+1],original_list[index] = original_list[index],original_list[index+1]\n",
    "        \n",
    "        print('unsorted list till index : ',i)\n",
    "        print_list(original_list)"
   ]
  },
  {
   "cell_type": "code",
   "execution_count": 21,
   "metadata": {},
   "outputs": [],
   "source": [
    "student_marks=[88,99,34,32,23,45,25,29,37,49,20]"
   ]
  },
  {
   "cell_type": "code",
   "execution_count": 16,
   "metadata": {},
   "outputs": [
    {
     "name": "stdout",
     "output_type": "stream",
     "text": [
      "unsorted list till index :  10\n",
      "[88, 34, 32, 23, 45, 25, 29, 37, 49, 20, 99]\n",
      "unsorted list till index :  9\n",
      "[34, 32, 23, 45, 25, 29, 37, 49, 20, 88, 99]\n",
      "unsorted list till index :  8\n",
      "[32, 23, 34, 25, 29, 37, 45, 20, 49, 88, 99]\n",
      "unsorted list till index :  7\n",
      "[23, 32, 25, 29, 34, 37, 20, 45, 49, 88, 99]\n",
      "unsorted list till index :  6\n",
      "[23, 25, 29, 32, 34, 20, 37, 45, 49, 88, 99]\n",
      "unsorted list till index :  5\n",
      "[23, 25, 29, 32, 20, 34, 37, 45, 49, 88, 99]\n",
      "unsorted list till index :  4\n",
      "[23, 25, 29, 20, 32, 34, 37, 45, 49, 88, 99]\n",
      "unsorted list till index :  3\n",
      "[23, 25, 20, 29, 32, 34, 37, 45, 49, 88, 99]\n",
      "unsorted list till index :  2\n",
      "[23, 20, 25, 29, 32, 34, 37, 45, 49, 88, 99]\n",
      "unsorted list till index :  1\n",
      "[20, 23, 25, 29, 32, 34, 37, 45, 49, 88, 99]\n"
     ]
    }
   ],
   "source": [
    "bubble_sort(student_marks)"
   ]
  },
  {
   "cell_type": "code",
   "execution_count": 33,
   "metadata": {},
   "outputs": [],
   "source": [
    "#Bubble Sort\n",
    "def bubble_sort_adaptive(original_list):\n",
    "    length = len(original_list)\n",
    "    \n",
    "    for i in range(length-1,0,-1):    \n",
    "        num_of_swaps = 0\n",
    "        for index in range(i):\n",
    "            if original_list[index] > original_list[index+1]:\n",
    "                original_list[index+1],original_list[index] = original_list[index],original_list[index+1]\n",
    "                num_of_swaps +=1\n",
    "        \n",
    "        print('unsorted list till index : ',i)\n",
    "        print_list(original_list)\n",
    "        if num_of_swaps == 0:\n",
    "            break"
   ]
  },
  {
   "cell_type": "code",
   "execution_count": 27,
   "metadata": {},
   "outputs": [
    {
     "name": "stdout",
     "output_type": "stream",
     "text": [
      "unsorted list till index :  10\n",
      "[20, 23, 25, 29, 32, 34, 37, 45, 49, 88, 99]\n"
     ]
    }
   ],
   "source": [
    "bubble_sort_adaptive(student_marks)"
   ]
  },
  {
   "cell_type": "code",
   "execution_count": 31,
   "metadata": {},
   "outputs": [],
   "source": [
    "num_list = [10,11,6,8,9,1,2,3,4,5,7]"
   ]
  },
  {
   "cell_type": "code",
   "execution_count": 34,
   "metadata": {},
   "outputs": [
    {
     "name": "stdout",
     "output_type": "stream",
     "text": [
      "unsorted list till index :  10\n",
      "[6, 8, 9, 1, 2, 3, 4, 5, 7, 10, 11]\n",
      "unsorted list till index :  9\n",
      "[6, 8, 1, 2, 3, 4, 5, 7, 9, 10, 11]\n",
      "unsorted list till index :  8\n",
      "[6, 1, 2, 3, 4, 5, 7, 8, 9, 10, 11]\n",
      "unsorted list till index :  7\n",
      "[1, 2, 3, 4, 5, 6, 7, 8, 9, 10, 11]\n",
      "unsorted list till index :  6\n",
      "[1, 2, 3, 4, 5, 6, 7, 8, 9, 10, 11]\n"
     ]
    }
   ],
   "source": [
    "bubble_sort_adaptive(num_list)"
   ]
  },
  {
   "cell_type": "code",
   "execution_count": 25,
   "metadata": {},
   "outputs": [
    {
     "name": "stdout",
     "output_type": "stream",
     "text": [
      "unsorted list till index :  10\n",
      "[1, 2, 3, 4, 5, 6, 7, 8, 9, 10, 11]\n"
     ]
    }
   ],
   "source": [
    "bubble_sort_adaptive(num_list)"
   ]
  },
  {
   "cell_type": "code",
   "execution_count": 35,
   "metadata": {},
   "outputs": [],
   "source": [
    "#insertion_sort\n",
    "def insertion_sort(original_list):\n",
    "    length = len(original_list)\n",
    "    \n",
    "    for i in range(0,length-1):\n",
    "        for j in range(i+1,0,-1):\n",
    "            if original_list[j] < original_list[j-1]:\n",
    "                original_list[j],original_list[j-1] = original_list[j-1],original_list[j]\n",
    "            else:\n",
    "                break\n",
    "        print('unsorted list till index : ',i)\n",
    "        print_list(original_list)"
   ]
  },
  {
   "cell_type": "code",
   "execution_count": 36,
   "metadata": {},
   "outputs": [],
   "source": [
    "num_list = [10,11,6,8,9,1,2,3,4,5,7]"
   ]
  },
  {
   "cell_type": "code",
   "execution_count": 37,
   "metadata": {},
   "outputs": [
    {
     "name": "stdout",
     "output_type": "stream",
     "text": [
      "unsorted list till index :  0\n",
      "[10, 11, 6, 8, 9, 1, 2, 3, 4, 5, 7]\n",
      "unsorted list till index :  1\n",
      "[6, 10, 11, 8, 9, 1, 2, 3, 4, 5, 7]\n",
      "unsorted list till index :  2\n",
      "[6, 8, 10, 11, 9, 1, 2, 3, 4, 5, 7]\n",
      "unsorted list till index :  3\n",
      "[6, 8, 9, 10, 11, 1, 2, 3, 4, 5, 7]\n",
      "unsorted list till index :  4\n",
      "[1, 6, 8, 9, 10, 11, 2, 3, 4, 5, 7]\n",
      "unsorted list till index :  5\n",
      "[1, 2, 6, 8, 9, 10, 11, 3, 4, 5, 7]\n",
      "unsorted list till index :  6\n",
      "[1, 2, 3, 6, 8, 9, 10, 11, 4, 5, 7]\n",
      "unsorted list till index :  7\n",
      "[1, 2, 3, 4, 6, 8, 9, 10, 11, 5, 7]\n",
      "unsorted list till index :  8\n",
      "[1, 2, 3, 4, 5, 6, 8, 9, 10, 11, 7]\n",
      "unsorted list till index :  9\n",
      "[1, 2, 3, 4, 5, 6, 7, 8, 9, 10, 11]\n"
     ]
    }
   ],
   "source": [
    "insertion_sort(num_list)"
   ]
  },
  {
   "cell_type": "code",
   "execution_count": 38,
   "metadata": {},
   "outputs": [],
   "source": [
    "num_list = [1,2,3,4,5,7,10,11,6,8,9]"
   ]
  },
  {
   "cell_type": "code",
   "execution_count": 39,
   "metadata": {},
   "outputs": [
    {
     "name": "stdout",
     "output_type": "stream",
     "text": [
      "unsorted list till index :  0\n",
      "[1, 2, 3, 4, 5, 7, 10, 11, 6, 8, 9]\n",
      "unsorted list till index :  1\n",
      "[1, 2, 3, 4, 5, 7, 10, 11, 6, 8, 9]\n",
      "unsorted list till index :  2\n",
      "[1, 2, 3, 4, 5, 7, 10, 11, 6, 8, 9]\n",
      "unsorted list till index :  3\n",
      "[1, 2, 3, 4, 5, 7, 10, 11, 6, 8, 9]\n",
      "unsorted list till index :  4\n",
      "[1, 2, 3, 4, 5, 7, 10, 11, 6, 8, 9]\n",
      "unsorted list till index :  5\n",
      "[1, 2, 3, 4, 5, 7, 10, 11, 6, 8, 9]\n",
      "unsorted list till index :  6\n",
      "[1, 2, 3, 4, 5, 7, 10, 11, 6, 8, 9]\n",
      "unsorted list till index :  7\n",
      "[1, 2, 3, 4, 5, 6, 7, 10, 11, 8, 9]\n",
      "unsorted list till index :  8\n",
      "[1, 2, 3, 4, 5, 6, 7, 8, 10, 11, 9]\n",
      "unsorted list till index :  9\n",
      "[1, 2, 3, 4, 5, 6, 7, 8, 9, 10, 11]\n"
     ]
    }
   ],
   "source": [
    "insertion_sort(num_list)"
   ]
  },
  {
   "cell_type": "code",
   "execution_count": 44,
   "metadata": {},
   "outputs": [],
   "source": [
    "#shell Sort\n",
    "def shell_sort(original_list):\n",
    "    \n",
    "    length = len(original_list)\n",
    "    gap = length // 2\n",
    "    \n",
    "    while gap > 0:\n",
    "        \n",
    "        for i in range(gap,length):\n",
    "            temp = original_list[i]\n",
    "            j = i\n",
    "            \n",
    "            while j >= gap and original_list[j - gap] > temp:\n",
    "                original_list[j] = original_list[j - gap]\n",
    "                j-=gap\n",
    "            \n",
    "            original_list[j] = temp\n",
    "            \n",
    "            print(\"gap:\", gap)\n",
    "            print_list(original_list)\n",
    "        \n",
    "        gap = gap // 2\n",
    "    "
   ]
  },
  {
   "cell_type": "raw",
   "metadata": {},
   "source": [
    "    "
   ]
  },
  {
   "cell_type": "code",
   "execution_count": 42,
   "metadata": {},
   "outputs": [],
   "source": [
    "arr = [12,34,54,2,5,10,100,20,23,22,19,15]"
   ]
  },
  {
   "cell_type": "code",
   "execution_count": 45,
   "metadata": {},
   "outputs": [
    {
     "name": "stdout",
     "output_type": "stream",
     "text": [
      "gap: 6\n",
      "[12, 34, 54, 2, 5, 10, 100, 20, 23, 22, 19, 15]\n",
      "gap: 6\n",
      "[12, 20, 54, 2, 5, 10, 100, 34, 23, 22, 19, 15]\n",
      "gap: 6\n",
      "[12, 20, 23, 2, 5, 10, 100, 34, 54, 22, 19, 15]\n",
      "gap: 6\n",
      "[12, 20, 23, 2, 5, 10, 100, 34, 54, 22, 19, 15]\n",
      "gap: 6\n",
      "[12, 20, 23, 2, 5, 10, 100, 34, 54, 22, 19, 15]\n",
      "gap: 6\n",
      "[12, 20, 23, 2, 5, 10, 100, 34, 54, 22, 19, 15]\n",
      "gap: 3\n",
      "[2, 20, 23, 12, 5, 10, 100, 34, 54, 22, 19, 15]\n",
      "gap: 3\n",
      "[2, 5, 23, 12, 20, 10, 100, 34, 54, 22, 19, 15]\n",
      "gap: 3\n",
      "[2, 5, 10, 12, 20, 23, 100, 34, 54, 22, 19, 15]\n",
      "gap: 3\n",
      "[2, 5, 10, 12, 20, 23, 100, 34, 54, 22, 19, 15]\n",
      "gap: 3\n",
      "[2, 5, 10, 12, 20, 23, 100, 34, 54, 22, 19, 15]\n",
      "gap: 3\n",
      "[2, 5, 10, 12, 20, 23, 100, 34, 54, 22, 19, 15]\n",
      "gap: 3\n",
      "[2, 5, 10, 12, 20, 23, 22, 34, 54, 100, 19, 15]\n",
      "gap: 3\n",
      "[2, 5, 10, 12, 19, 23, 22, 20, 54, 100, 34, 15]\n",
      "gap: 3\n",
      "[2, 5, 10, 12, 19, 15, 22, 20, 23, 100, 34, 54]\n",
      "gap: 1\n",
      "[2, 5, 10, 12, 19, 15, 22, 20, 23, 100, 34, 54]\n",
      "gap: 1\n",
      "[2, 5, 10, 12, 19, 15, 22, 20, 23, 100, 34, 54]\n",
      "gap: 1\n",
      "[2, 5, 10, 12, 19, 15, 22, 20, 23, 100, 34, 54]\n",
      "gap: 1\n",
      "[2, 5, 10, 12, 19, 15, 22, 20, 23, 100, 34, 54]\n",
      "gap: 1\n",
      "[2, 5, 10, 12, 15, 19, 22, 20, 23, 100, 34, 54]\n",
      "gap: 1\n",
      "[2, 5, 10, 12, 15, 19, 22, 20, 23, 100, 34, 54]\n",
      "gap: 1\n",
      "[2, 5, 10, 12, 15, 19, 20, 22, 23, 100, 34, 54]\n",
      "gap: 1\n",
      "[2, 5, 10, 12, 15, 19, 20, 22, 23, 100, 34, 54]\n",
      "gap: 1\n",
      "[2, 5, 10, 12, 15, 19, 20, 22, 23, 100, 34, 54]\n",
      "gap: 1\n",
      "[2, 5, 10, 12, 15, 19, 20, 22, 23, 34, 100, 54]\n",
      "gap: 1\n",
      "[2, 5, 10, 12, 15, 19, 20, 22, 23, 34, 54, 100]\n"
     ]
    }
   ],
   "source": [
    "shell_sort(arr)"
   ]
  },
  {
   "cell_type": "code",
   "execution_count": 47,
   "metadata": {},
   "outputs": [],
   "source": [
    "#merge sort\n",
    "def merge_sort(original_list):\n",
    "    if len(original_list) <= 1:\n",
    "        return\n",
    "\n",
    "    mid = len(original_list) // 2\n",
    "    \n",
    "    lefthalf = original_list[:mid]\n",
    "    righthalf = original_list[mid:]\n",
    "\n",
    "    merge_sort(lefthalf)\n",
    "    print_list(lefthalf)\n",
    "    \n",
    "    merge_sort(righthalf)\n",
    "    print_list(righthalf)\n",
    "\n",
    "    i = 0\n",
    "    j = 0\n",
    "    k = 0\n",
    "\n",
    "    while i < len(lefthalf) and j < len(righthalf):\n",
    "        if lefthalf[i] < righthalf[j]:\n",
    "            original_list[k] = lefthalf[i]\n",
    "        \n",
    "            i = i + 1\n",
    "        else:\n",
    "            original_list[k] = righthalf[j]\n",
    "            j = j + 1\n",
    "        k=k+1\n",
    "\n",
    "    while i < len(lefthalf):\n",
    "        original_list[k] = lefthalf[i]\n",
    "        \n",
    "        i = i + 1\n",
    "        k = k + 1\n",
    "\n",
    "    while j < len(righthalf):\n",
    "        original_list[k] = righthalf[j]\n",
    "\n",
    "        j = j + 1\n",
    "        k = k + 1"
   ]
  },
  {
   "cell_type": "code",
   "execution_count": 48,
   "metadata": {},
   "outputs": [
    {
     "name": "stdout",
     "output_type": "stream",
     "text": [
      "[54]\n",
      "[26]\n",
      "[93]\n",
      "[26, 93]\n",
      "[26, 54, 93]\n",
      "[17]\n",
      "[77]\n",
      "[31]\n",
      "[31, 77]\n",
      "[17, 31, 77]\n",
      "[17, 26, 31, 54, 77, 93]\n",
      "[44]\n",
      "[55]\n",
      "[20]\n",
      "[20, 55]\n",
      "[20, 44, 55]\n",
      "[13]\n",
      "[2]\n",
      "[2, 13]\n",
      "[100]\n",
      "[66]\n",
      "[66, 100]\n",
      "[2, 13, 66, 100]\n",
      "[2, 13, 20, 44, 55, 66, 100]\n"
     ]
    }
   ],
   "source": [
    "num_list = [54, 26, 93, 17, 77, 31, 44, 55, 20, 13, 2, 100, 66]\n",
    "\n",
    "merge_sort(num_list)"
   ]
  },
  {
   "cell_type": "code",
   "execution_count": 49,
   "metadata": {},
   "outputs": [
    {
     "data": {
      "text/plain": [
       "[2, 13, 17, 20, 26, 31, 44, 54, 55, 66, 77, 93, 100]"
      ]
     },
     "execution_count": 49,
     "metadata": {},
     "output_type": "execute_result"
    }
   ],
   "source": [
    "num_list"
   ]
  },
  {
   "cell_type": "code",
   "execution_count": 53,
   "metadata": {},
   "outputs": [],
   "source": [
    "#Quick Sort\n",
    "\n",
    "def partition(original_list,start_index,end_index):\n",
    "    \n",
    "    curr_index = start_index\n",
    "    pivot = original_list[end_index]\n",
    "    \n",
    "    for i in range(start_index,end_index):\n",
    "        if original_list[i] <= pivot:\n",
    "            \n",
    "            original_list[curr_index],original_list[i] = original_list[i],original_list[curr_index]\n",
    "            curr_index = curr_index + 1\n",
    "            \n",
    "    original_list[curr_index], original_list[end_index] = original_list[end_index], original_list[curr_index]\n",
    "    return curr_index"
   ]
  },
  {
   "cell_type": "code",
   "execution_count": 56,
   "metadata": {},
   "outputs": [],
   "source": [
    "def quick_sort(original_list,start_index,end_index):\n",
    "    if start_index >= end_index:\n",
    "        return\n",
    "    \n",
    "    pi = partition(original_list,start_index,end_index)\n",
    "    print('Element in the right place: ', original_list[pi])\n",
    "    print_list(original_list)\n",
    "    \n",
    "    quick_sort(original_list, start_index, pi - 1) \n",
    "    \n",
    "    quick_sort(original_list, pi + 1, end_index)"
   ]
  },
  {
   "cell_type": "code",
   "execution_count": 57,
   "metadata": {},
   "outputs": [
    {
     "name": "stdout",
     "output_type": "stream",
     "text": [
      "Element in the right place:  19\n",
      "[17, 2, 6, 10, 19, 31, 44, 55, 20, 26, 93, 54, 88, 77]\n",
      "Element in the right place:  10\n",
      "[2, 6, 10, 17, 19, 31, 44, 55, 20, 26, 93, 54, 88, 77]\n",
      "Element in the right place:  6\n",
      "[2, 6, 10, 17, 19, 31, 44, 55, 20, 26, 93, 54, 88, 77]\n",
      "Element in the right place:  77\n",
      "[2, 6, 10, 17, 19, 31, 44, 55, 20, 26, 54, 77, 88, 93]\n",
      "Element in the right place:  54\n",
      "[2, 6, 10, 17, 19, 31, 44, 20, 26, 54, 55, 77, 88, 93]\n",
      "Element in the right place:  26\n",
      "[2, 6, 10, 17, 19, 20, 26, 31, 44, 54, 55, 77, 88, 93]\n",
      "Element in the right place:  44\n",
      "[2, 6, 10, 17, 19, 20, 26, 31, 44, 54, 55, 77, 88, 93]\n",
      "Element in the right place:  93\n",
      "[2, 6, 10, 17, 19, 20, 26, 31, 44, 54, 55, 77, 88, 93]\n"
     ]
    }
   ],
   "source": [
    "num_list = [54, 26, 93, 17, 77, 31, 44, 55, 20, 2, 6, 10, 88, 19]\n",
    "\n",
    "quick_sort(num_list, 0, len(num_list) - 1)"
   ]
  },
  {
   "cell_type": "code",
   "execution_count": null,
   "metadata": {},
   "outputs": [],
   "source": []
  }
 ],
 "metadata": {
  "kernelspec": {
   "display_name": "Python 3",
   "language": "python",
   "name": "python3"
  },
  "language_info": {
   "codemirror_mode": {
    "name": "ipython",
    "version": 3
   },
   "file_extension": ".py",
   "mimetype": "text/x-python",
   "name": "python",
   "nbconvert_exporter": "python",
   "pygments_lexer": "ipython3",
   "version": "3.6.5"
  }
 },
 "nbformat": 4,
 "nbformat_minor": 4
}
